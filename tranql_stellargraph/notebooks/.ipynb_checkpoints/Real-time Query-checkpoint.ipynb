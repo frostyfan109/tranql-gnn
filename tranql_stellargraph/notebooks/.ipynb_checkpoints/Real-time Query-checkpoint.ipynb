{
 "cells": [
  {
   "cell_type": "markdown",
   "metadata": {},
   "source": [
    "## Real-time TranQL Query\n",
    "This notebook will make a real-time TranQL query and construct a model using the returned knowledge graph."
   ]
  },
  {
   "cell_type": "markdown",
   "metadata": {},
   "source": [
    "First, everything needs to be loaded."
   ]
  },
  {
   "cell_type": "code",
   "execution_count": 1,
   "metadata": {},
   "outputs": [],
   "source": [
    "%load_ext tranql_jupyter\n",
    "from build_complex import (\n",
    "    make_model as make_complex_model,\n",
    "    get_dataset as make_complex_dataset,\n",
    "    make_type_predicate_mappings\n",
    ")"
   ]
  },
  {
   "cell_type": "markdown",
   "metadata": {},
   "source": [
    "Now, let's make a TranQL query to Robokop about Measles."
   ]
  },
  {
   "cell_type": "code",
   "execution_count": 2,
   "metadata": {},
   "outputs": [
    {
     "name": "stdout",
     "output_type": "stream",
     "text": [
      "2020-08-05 12:08:29,128 - tranql.tranql_ast - DEBUG - Starting queries on service: http://localhost:8099/graph/gamma/quick (asynchronous=True)\n",
      "2020-08-05 12:08:46,486 - tranql.tranql_ast - DEBUG - Making requests took 17.354593515396118 s (asynchronous = True)\n",
      "Query completed with 0 errors.\n"
     ]
    }
   ],
   "source": [
    "# disease=measles\n",
    "kg = %tranql_query SELECT chemical_substance->gene->disease from \"/graph/gamma/quick\" where disease=\"MONDO:0004619\""
   ]
  },
  {
   "cell_type": "markdown",
   "metadata": {},
   "source": [
    "We can look at the graph a bit to get an idea of its structure and the response in general."
   ]
  },
  {
   "cell_type": "code",
   "execution_count": 3,
   "metadata": {
    "scrolled": false
   },
   "outputs": [
    {
     "data": {
      "text/html": [
       "\n",
       "<div class=\"force-graph-1 title-container\"></div>\n",
       "<div class=\"force-graph-1 graph-container\"></div>\n",
       "<style>\n",
       ".force-graph-1 canvas {\n",
       "    width: 100% !important;\n",
       "    border: 1px solid gray;\n",
       "}\n",
       "</style>\n",
       "<script>\n",
       "require(['https://unpkg.com/3d-force-graph', 'https://cdn.jsdelivr.net/npm/element-resize-detector@1.2.1/dist/element-resize-detector.min.js'], function(ForceGraph, resizeMaker) {\n",
       "    const data = {\"nodes\": [{\"id\": \"CHEBI:27994\", \"name\": \"luteolin 7-O-beta-D-glucoside\"}, {\"id\": \"NCBIGene:3558\", \"name\": \"IL2\"}, {\"id\": \"MONDO:0004619\", \"name\": \"measles\"}, {\"id\": \"CHEBI:86512\", \"name\": \"calycosin-7-O-beta-D-glucoside\"}, {\"id\": \"CHEBI:74020\", \"name\": \"diosgenin 3-O-beta-D-glucoside\"}, {\"id\": \"CHEMBL.COMPOUND:CHEMBL3289611\", \"name\": \"CHEMBL3289611\"}, {\"id\": \"CHEMBL.COMPOUND:CHEMBL3289607\", \"name\": \"CHEMBL3289607\"}, {\"id\": \"CHEBI:7775\", \"name\": \"ononin\"}, {\"id\": \"CHEBI:4933\", \"name\": \"Eupatocunin\"}, {\"id\": \"CHEBI:2244\", \"name\": \"7,3'-dihydroxy-4'-methoxy-8-methylflavan\"}, {\"id\": \"CHEBI:123798\", \"name\": \"N-[(2S,3R)-2-[[cyclohexylmethyl(methyl)amino]methyl]-5-[(2R)-1-hydroxypropan-2-yl]-3-methyl-6-oxo-3,4-dihydro-2H-1,5-benzoxazocin-10-yl]-1-methyl-4-imidazolesulfonamide\"}, {\"id\": \"CHEBI:6623\", \"name\": \"Macluraxanthone\"}, {\"id\": \"CHEBI:5641\", \"name\": \"heliosupine\"}, {\"id\": \"CHEBI:23994\", \"name\": \"ethyl methanesulfonate\"}, {\"id\": \"CHEBI:15625\", \"name\": \"S-adenosylmethioninamine\"}, {\"id\": \"CHEBI:2336\", \"name\": \"9-Methoxy-alpha-lapachone\"}, {\"id\": \"CHEBI:121850\", \"name\": \"2-(1,3-benzoxazol-2-ylthio)-N-(4-phenyl-2-thiazolyl)acetamide\"}, {\"id\": \"CHEBI:104895\", \"name\": \"5-[(4-ethoxyphenoxy)methyl]-N-(3-pyridinyl)-2-furancarboxamide\"}, {\"id\": \"CHEBI:2803\", \"name\": \"Arborine\"}, {\"id\": \"CHEBI:114850\", \"name\": \"2-[(4-methylphenyl)-oxomethyl]benzoic acid [2-(3-nitroanilino)-2-oxoethyl] ester\"}, {\"id\": \"CHEBI:15939\", \"name\": \"glycyrrhizinic acid\"}, {\"id\": \"CHEBI:241\", \"name\": \"(5R)-6-Hydroxy-5-isopropenyl-2-methylhexanoate\"}, {\"id\": \"CHEBI:27924\", \"name\": \"phenylhydrazine\"}, {\"id\": \"CHEBI:135926\", \"name\": \"udenafil\"}, {\"id\": \"CHEBI:16078\", \"name\": \"ferricytochrome b-561\"}, {\"id\": \"CHEBI:1322\", \"name\": \"3',4'-Anhydrovinblastine\"}, {\"id\": \"CHEBI:7847\", \"name\": \"oxmetidine\"}, {\"id\": \"CHEBI:31404\", \"name\": \"Citric acid monohydrate\"}, {\"id\": \"CHEBI:3501\", \"name\": \"Cefoxitin sodium\"}, {\"id\": \"CHEBI:24012\", \"name\": \"farnesal\"}, {\"id\": \"CHEBI:3715\", \"name\": \"Cinnavalininate\"}, {\"id\": \"CHEBI:6386\", \"name\": \"Lathyrol\"}, {\"id\": \"CHEBI:74990\", \"name\": \"Tyr-Gly\"}, {\"id\": \"CHEBI:5921\", \"name\": \"3beta,11beta-Diacetoxy-1alpha-hydroxykaura-16-ene-6,15-dione\"}, {\"id\": \"CHEBI:72292\", \"name\": \"bedaquiline\"}, {\"id\": \"CHEBI:31703\", \"name\": \"iodamide\"}, {\"id\": \"PUBCHEM:26346\", \"name\": \"Cannabidiol\"}, {\"id\": \"CHEBI:2543\", \"name\": \"albafuran A\"}, {\"id\": \"CHEBI:5757\", \"name\": \"homostachydrine\"}, {\"id\": \"CHEBI:712\", \"name\": \"11-Deoxocucurbitacin I\"}, {\"id\": \"CHEBI:36231\", \"name\": \"alpha-allolactose\"}, {\"id\": \"CHEBI:26346\", \"name\": \"prostaglandins J\"}, {\"id\": \"CHEBI:289\", \"name\": \"(N-Acetyl-beta-D-glucosaminyl-1,2)-alpha-D-mannosyl-1,3-(beta-N-acetyl-D-glucosaminyl-1,2-alpha-D-mannosyl-1,6)-beta-D-mannosyl-R\"}, {\"id\": \"GTOPDB:4933\", \"name\": \"\"}, {\"id\": \"CHEBI:15367\", \"name\": \"all-trans-retinoic acid\"}, {\"id\": \"CHEBI:17578\", \"name\": \"toluene\"}, {\"id\": \"CHEBI:31823\", \"name\": \"mercury dichloride\"}, {\"id\": \"CHEBI:16716\", \"name\": \"benzene\"}, {\"id\": \"CHEBI:474053\", \"name\": \"cefazolin\"}, {\"id\": \"CHEBI:51209\", \"name\": \"pseudoephedrine\"}, {\"id\": \"CHEMBL.COMPOUND:CHEMBL3646778\", \"name\": \"CHEMBL3646778\"}, {\"id\": \"CHEMBL.COMPOUND:CHEMBL3646776\", \"name\": \"CHEMBL3646776\"}, {\"id\": \"CHEMBL.COMPOUND:CHEMBL3646774\", \"name\": \"CHEMBL3646774\"}, {\"id\": \"CHEMBL.COMPOUND:CHEMBL3646775\", \"name\": \"CHEMBL3646775\"}, {\"id\": \"CHEMBL.COMPOUND:CHEMBL3646777\", \"name\": \"CHEMBL3646777\"}, {\"id\": \"CHEBI:47417\", \"name\": \"N(2)-carbamimidoyl-N-{2-[4-(3-{4-[(5-carboxyfuran-2-yl)methoxy]-2,3-dichlorophenyl}-1-methyl-1H-pyrazol-5-yl)piperidin-1-yl]-2-oxoethyl}-D-leucinamide\"}, {\"id\": \"CHEMBL.COMPOUND:CHEMBL3646779\", \"name\": \"CHEMBL3646779\"}, {\"id\": \"CHEMBL.COMPOUND:CHEMBL3646780\", \"name\": \"CHEMBL3646780\"}, {\"id\": \"CHEMBL.COMPOUND:CHEMBL3646782\", \"name\": \"CHEMBL3646782\"}, {\"id\": \"CHEMBL.COMPOUND:CHEMBL3646781\", \"name\": \"CHEMBL3646781\"}, {\"id\": \"CHEBI:63954\", \"name\": \"ionomycin\"}, {\"id\": \"CHEBI:37537\", \"name\": \"phorbol 13-acetate 12-myristate\"}, {\"id\": \"CHEBI:16796\", \"name\": \"melatonin\"}, {\"id\": \"CHEBI:27363\", \"name\": \"zinc atom\"}, {\"id\": \"CHEBI:61057\", \"name\": \"tacrolimus hydrate\"}, {\"id\": \"CHEBI:17823\", \"name\": \"calcitriol\"}, {\"id\": \"CHEBI:45713\", \"name\": \"trans-resveratrol\"}, {\"id\": \"MESH:D010936\", \"name\": \"Plant Extracts\"}, {\"id\": \"CHEBI:34718\", \"name\": \"1-chloro-2,4-dinitrobenzene\"}, {\"id\": \"CHEBI:16412\", \"name\": \"lipopolysaccharide\"}, {\"id\": \"CHEBI:16602\", \"name\": \"trichloroethene\"}, {\"id\": \"CHEMBL.COMPOUND:CHEMBL513300\", \"name\": \"DEOXYNIVALENOL\"}, {\"id\": \"MESH:D015054\", \"name\": \"Zymosan\"}, {\"id\": \"MESH:D001335\", \"name\": \"Vehicle Emissions\"}, {\"id\": \"CHEBI:15368\", \"name\": \"acrolein\"}, {\"id\": \"CHEBI:80828\", \"name\": \"Gastrodin\"}, {\"id\": \"MESH:C081159\", \"name\": \"secretoneurin\"}, {\"id\": \"CHEBI:41879\", \"name\": \"dexamethasone\"}, {\"id\": \"CHEBI:9168\", \"name\": \"sirolimus\"}, {\"id\": \"CHEBI:7459\", \"name\": \"naloxone\"}, {\"id\": \"CHEBI:34690\", \"name\": \"dichlorvos\"}, {\"id\": \"CHEBI:38728\", \"name\": \"monocrotophos\"}, {\"id\": \"CHEBI:38508\", \"name\": \"methiocarb\"}, {\"id\": \"CHEBI:27827\", \"name\": \"paraoxon\"}, {\"id\": \"CHEBI:3390\", \"name\": \"carbaryl\"}, {\"id\": \"CHEBI:17688\", \"name\": \"(S)-nicotine\"}, {\"id\": \"CHEBI:2555\", \"name\": \"aldicarb\"}, {\"id\": \"CHEBI:34611\", \"name\": \"carbofuran\"}, {\"id\": \"CHEMBL.COMPOUND:CHEMBL1903674\", \"name\": \"CHEMBL1903674\"}, {\"id\": \"MESH:D005620\", \"name\": \"Freund's Adjuvant\"}, {\"id\": \"CHEBI:17967\", \"name\": \"urethane\"}, {\"id\": \"CHEBI:16842\", \"name\": \"formaldehyde\"}, {\"id\": \"CHEBI:16469\", \"name\": \"17beta-estradiol\"}, {\"id\": \"CHEBI:28119\", \"name\": \"2,3,7,8-tetrachlorodibenzodioxine\"}, {\"id\": \"CHEBI:4903\", \"name\": \"17alpha-ethynylestradiol\"}, {\"id\": \"CHEMBL.COMPOUND:CHEMBL1355736\", \"name\": \"CHEMBL1355736\"}, {\"id\": \"CHEBI:6637\", \"name\": \"magnesium dihydroxide\"}, {\"id\": \"CHEBI:4917\", \"name\": \"eugenol\"}, {\"id\": \"PUBCHEM:90478637\", \"name\": \"Hemagglutinins\"}, {\"id\": \"PUBCHEM:10325914\", \"name\": \"monocyte locomotion inhibitory factor\"}, {\"id\": \"CHEBI:53001\", \"name\": \"nickel sulfate\"}, {\"id\": \"CHEBI:34887\", \"name\": \"nickel dichloride\"}, {\"id\": \"CHEMBL.COMPOUND:CHEMBL126077\", \"name\": \"INDIRUBIN-3-MONOXIME\"}, {\"id\": \"CHEBI:107643\", \"name\": \"5-(methylamino)-2-[[(2S,3R,5R,6S,8R,9R)-3,5,9-trimethyl-2-[(2S)-1-oxo-1-(1H-pyrrol-2-yl)propan-2-yl]-1,7-dioxaspiro[5.5]undecan-8-yl]methyl]-1,3-benzoxazole-4-carboxylic acid\"}, {\"id\": \"CHEBI:33130\", \"name\": \"aluminium hydroxide\"}, {\"id\": \"CHEBI:35696\", \"name\": \"cobalt dichloride\"}, {\"id\": \"CHEBI:53621\", \"name\": \"chloromethylisothiazolinone\"}, {\"id\": \"CHEBI:34292\", \"name\": \"1,3-benzothiazole-2-thiol\"}, {\"id\": \"CHEBI:52290\", \"name\": \"Mitogens\"}, {\"id\": \"MESH:D011070\", \"name\": \"Poly I-C\"}, {\"id\": \"CHEBI:22986\", \"name\": \"Calcium Ionophores\"}, {\"id\": \"CHEBI:27594\", \"name\": \"carbon atom\"}, {\"id\": \"CHEBI:33128\", \"name\": \"C60 fullerene\"}, {\"id\": \"MESH:C499366\", \"name\": \"Active Hexose Correlated Compound\"}, {\"id\": \"MESH:D000534\", \"name\": \"Alum Compounds\"}, {\"id\": \"MESH:C554150\", \"name\": \"interferon alfa-n1\"}, {\"id\": \"CHEBI:55365\", \"name\": \"alpha-hexylcinnamaldehyde\"}, {\"id\": \"CHEBI:86919\", \"name\": \"phenyl benzoate\"}, {\"id\": \"CHEBI:17790\", \"name\": \"methanol\"}, {\"id\": \"MESH:C036643\", \"name\": \"isoeugenol\"}, {\"id\": \"MESH:C008290\", \"name\": \"lipophosphonoglycan\"}, {\"id\": \"CHEBI:51403\", \"name\": \"1,4-phenylenediamine\"}, {\"id\": \"MESH:C006048\", \"name\": \"imidazolidinyl urea\"}, {\"id\": \"MESH:C007076\", \"name\": \"citral\"}, {\"id\": \"CHEBI:3086\", \"name\": \"betulin\"}, {\"id\": \"CHEBI:6716\", \"name\": \"medroxyprogesterone acetate\"}, {\"id\": \"CHEBI:6067\", \"name\": \"isotretinoin\"}, {\"id\": \"CHEBI:35456\", \"name\": \"cadmium dichloride\"}, {\"id\": \"CHEBI:16243\", \"name\": \"quercetin\"}, {\"id\": \"CHEBI:44185\", \"name\": \"methotrexate\"}, {\"id\": \"CHEBI:20993\", \"name\": \"aldehydo-D-glucosamine\"}, {\"id\": \"CHEBI:27638\", \"name\": \"cobalt atom\"}, {\"id\": \"CHEBI:3962\", \"name\": \"curcumin\"}, {\"id\": \"CHEBI:53509\", \"name\": \"erlotinib hydrochloride\"}, {\"id\": \"CHEBI:7719\", \"name\": \"ochratoxin A\"}, {\"id\": \"CHEBI:39421\", \"name\": \"perfluorooctane-1-sulfonic acid\"}, {\"id\": \"CHEBI:27563\", \"name\": \"arsenic atom\"}, {\"id\": \"CHEBI:78886\", \"name\": \"2-tert-butylhydroquinone\"}, {\"id\": \"CHEBI:29678\", \"name\": \"sodium arsenite\"}, {\"id\": \"CHEBI:38397\", \"name\": \"perfluorononanoic acid\"}, {\"id\": \"CHEBI:27789\", \"name\": \"1,2-dichloroethane\"}, {\"id\": \"CHEBI:47808\", \"name\": \"(R)-sulforaphane\"}, {\"id\": \"CHEBI:4806\", \"name\": \"(-)-epigallocatechin 3-gallate\"}, {\"id\": \"MESH:D063086\", \"name\": \"Organothiophosphates\"}, {\"id\": \"MESH:D052638\", \"name\": \"Particulate Matter\"}, {\"id\": \"MESH:D002858\", \"name\": \"Chromium Alloys\"}, {\"id\": \"MESH:D003520\", \"name\": \"Cyclophosphamide\"}, {\"id\": \"CHEBI:78036\", \"name\": \"copper(II) nitrate\"}, {\"id\": \"MESH:D002087\", \"name\": \"Butyrates\"}, {\"id\": \"CHEBI:145256\", \"name\": \"6,7-dihydroxy-4-methylcoumarin\"}, {\"id\": \"CHEBI:63952\", \"name\": \"arsenic trichloride\"}, {\"id\": \"MESH:C517552\", \"name\": \"N-(6-methylamino-3-nitrophenyl)-3-(3-indolyl)acrylamide\"}, {\"id\": \"MESH:C012796\", \"name\": \"2-butenal\"}, {\"id\": \"MESH:C017461\", \"name\": \"lead nitrate\"}, {\"id\": \"MESH:C038016\", \"name\": \"gold chloride\"}, {\"id\": \"CHEMBL.COMPOUND:CHEMBL152423\", \"name\": \"T-2\"}, {\"id\": \"CHEMBL.COMPOUND:CHEMBL468823\", \"name\": \"15-ACETYLDEOXYNIVALENOL\"}, {\"id\": \"PUBCHEM:104759\", \"name\": \"3-acetyldeoxynivalenol\"}, {\"id\": \"CHEBI:230243\", \"name\": \"verrucarin A\"}, {\"id\": \"CHEMBL.COMPOUND:CHEMBL509655\", \"name\": \"NIVALENOL\"}, {\"id\": \"CHEBI:34936\", \"name\": \"propanil\"}, {\"id\": \"CHEBI:9416\", \"name\": \"(+)-taxifolin 3-O-acetate\"}, {\"id\": \"NCBIGene:1805\", \"name\": \"DPT\"}, {\"id\": \"CHEBI:53444\", \"name\": \"potassium dichromate\"}, {\"id\": \"CHEBI:5994\", \"name\": \"isochamaejasmin\"}, {\"id\": \"NCBIGene:10974\", \"name\": \"ADIRF\"}, {\"id\": \"CHEBI:126941\", \"name\": \"1-[[(2R,3R)-5-[(2S)-1-hydroxypropan-2-yl]-3-methyl-6-oxo-8-[[oxo-(propan-2-ylamino)methyl]amino]-3,4-dihydro-2H-1,5-benzoxazocin-2-yl]methyl]-1-methyl-3-(1-naphthalenyl)urea\"}, {\"id\": \"CHEBI:3385\", \"name\": \"carbachol\"}, {\"id\": \"CHEBI:24262\", \"name\": \"glucoglycerolipid\"}, {\"id\": \"CHEBI:5746\", \"name\": \"Homaline\"}, {\"id\": \"NCBIGene:4155\", \"name\": \"MBP\"}, {\"id\": \"CHEBI:36242\", \"name\": \"3-(4-hydroxyphenyl)pyruvate\"}, {\"id\": \"CHEBI:89594\", \"name\": \"PC(18:1(9Z)/P-18:0)\"}, {\"id\": \"CHEBI:60700\", \"name\": \"6-bromohexanoic acid\"}, {\"id\": \"CHEBI:36462\", \"name\": \"glutaconate(1-)\"}, {\"id\": \"PUBCHEM:9723\", \"name\": \"Cuprizone\"}, {\"id\": \"CHEBI:27504\", \"name\": \"mitomycin C\"}, {\"id\": \"CHEBI:63632\", \"name\": \"topotecan\"}, {\"id\": \"CHEBI:4911\", \"name\": \"etoposide\"}, {\"id\": \"CHEBI:33216\", \"name\": \"bisphenol A\"}, {\"id\": \"CHEBI:8502\", \"name\": \"6-propyl-2-thiouracil\"}, {\"id\": \"CHEBI:39867\", \"name\": \"valproic acid\"}, {\"id\": \"CHEBI:15724\", \"name\": \"trimethylamine N-oxide\"}, {\"id\": \"CHEBI:60361\", \"name\": \"1-(3-O-sulfo-beta-D-galactosyl)-N-tetracosanoylsphingosine\"}, {\"id\": \"NCBIGene:4179\", \"name\": \"CD46\"}, {\"id\": \"CHEBI:36314\", \"name\": \"glycerophosphoethanolamine\"}, {\"id\": \"CHEBI:91605\", \"name\": \"N-(2-naphthalenyl)-3-bicyclo[2.2.1]heptanecarboxamide\"}, {\"id\": \"CHEBI:45863\", \"name\": \"paclitaxel\"}, {\"id\": \"MESH:D022542\", \"name\": \"Measles-Mumps-Rubella Vaccine\"}, {\"id\": \"NCBIGene:959\", \"name\": \"CD40LG\"}, {\"id\": \"CHEBI:3763\", \"name\": \"clorgyline\"}, {\"id\": \"CHEBI:62976\", \"name\": \"cellopentaose\"}, {\"id\": \"CHEBI:28748\", \"name\": \"doxorubicin\"}, {\"id\": \"CHEBI:4653\", \"name\": \"dipyridamole\"}, {\"id\": \"NCBIGene:6360\", \"name\": \"CCL16\"}, {\"id\": \"NCBIGene:973\", \"name\": \"CD79A\"}, {\"id\": \"CHEBI:108143\", \"name\": \"4-[[5-[(3,4-dichlorophenyl)methylthio]-4-phenyl-1,2,4-triazol-3-yl]methyl]morpholine\"}, {\"id\": \"CHEBI:91471\", \"name\": \"LSM-1231\"}, {\"id\": \"NCBIGene:6790\", \"name\": \"AURKA\"}, {\"id\": \"CHEMBL.COMPOUND:CHEMBL2163388\", \"name\": \"CHEMBL2163388\"}, {\"id\": \"CHEMBL.COMPOUND:CHEMBL2163401\", \"name\": \"CHEMBL2163401\"}, {\"id\": \"CHEMBL.COMPOUND:CHEMBL2163390\", \"name\": \"CHEMBL2163390\"}, {\"id\": \"CHEMBL.COMPOUND:CHEMBL1822648\", \"name\": \"CHEMBL1822648\"}, {\"id\": \"CHEMBL.COMPOUND:CHEMBL1822649\", \"name\": \"CHEMBL1822649\"}, {\"id\": \"CHEMBL.COMPOUND:CHEMBL2163403\", \"name\": \"CHEMBL2163403\"}, {\"id\": \"CHEMBL.COMPOUND:CHEMBL1822487\", \"name\": \"CHEMBL1822487\"}, {\"id\": \"CHEMBL.COMPOUND:CHEMBL2207503\", \"name\": \"CHEMBL2207503\"}, {\"id\": \"CHEMBL.COMPOUND:CHEMBL1822652\", \"name\": \"CHEMBL1822652\"}, {\"id\": \"CHEMBL.COMPOUND:CHEMBL1822489\", \"name\": \"CHEMBL1822489\"}, {\"id\": \"CHEMBL.COMPOUND:CHEMBL1822656\", \"name\": \"CHEMBL1822656\"}, {\"id\": \"CHEMBL.COMPOUND:CHEMBL2163406\", \"name\": \"CHEMBL2163406\"}, {\"id\": \"CHEMBL.COMPOUND:CHEMBL2163393\", \"name\": \"CHEMBL2163393\"}, {\"id\": \"CHEBI:70726\", \"name\": \"hesperadin\"}, {\"id\": \"CHEBI:91336\", \"name\": \"N-[4-[[4-(4-methyl-1-piperazinyl)-6-[(5-methyl-1H-pyrazol-3-yl)amino]-2-pyrimidinyl]thio]phenyl]cyclopropanecarboxamide\"}, {\"id\": \"CHEBI:91362\", \"name\": \"3-[4-[4-[2-[3-[(dimethylamino)methyl]phenyl]-1H-pyrrolo[2,3-b]pyridin-4-yl]-1-ethyl-3-pyrazolyl]phenyl]-1,1-dimethylurea\"}, {\"id\": \"CHEMBL.COMPOUND:CHEMBL262434\", \"name\": \"CHEMBL262434\"}, {\"id\": \"CHEMBL.COMPOUND:CHEMBL1083152\", \"name\": \"CHEMBL1083152\"}, {\"id\": \"CHEMBL.COMPOUND:CHEMBL2012406\", \"name\": \"CHEMBL2012406\"}, {\"id\": \"CHEMBL.COMPOUND:CHEMBL557279\", \"name\": \"CHEMBL557279\"}, {\"id\": \"CHEMBL.COMPOUND:CHEMBL516003\", \"name\": \"CHEMBL516003\"}, {\"id\": \"CHEMBL.COMPOUND:CHEMBL2170436\", \"name\": \"CHEMBL2170436\"}, {\"id\": \"CHEMBL.COMPOUND:CHEMBL2170589\", \"name\": \"CHEMBL2170589\"}, {\"id\": \"CHEMBL.COMPOUND:CHEMBL561834\", \"name\": \"CHEMBL561834\"}, {\"id\": \"CHEMBL.COMPOUND:CHEMBL1825092\", \"name\": \"CHEMBL1825092\"}, {\"id\": \"CHEMBL.COMPOUND:CHEMBL3237167\", \"name\": \"CHEMBL3237167\"}, {\"id\": \"CHEMBL.COMPOUND:CHEMBL1801109\", \"name\": \"CHEMBL1801109\"}, {\"id\": \"CHEBI:125628\", \"name\": \"4-[[9-chloro-7-(2-fluoro-6-methoxyphenyl)-5H-pyrimido[5,4-d][2]benzazepin-2-yl]amino]-2-methoxybenzoic acid\"}, {\"id\": \"CHEMBL.COMPOUND:CHEMBL491773\", \"name\": \"CHEMBL491773\"}, {\"id\": \"CHEMBL.COMPOUND:CHEMBL3237166\", \"name\": \"CHEMBL3237166\"}, {\"id\": \"CHEMBL.COMPOUND:CHEMBL1085607\", \"name\": \"CHEMBL1085607\"}, {\"id\": \"CHEMBL.COMPOUND:CHEMBL1083484\", \"name\": \"CHEMBL1083484\"}, {\"id\": \"CHEMBL.COMPOUND:CHEMBL385266\", \"name\": \"CHEMBL385266\"}, {\"id\": \"CHEMBL.COMPOUND:CHEMBL244793\", \"name\": \"CHEMBL244793\"}, {\"id\": \"CHEMBL.COMPOUND:CHEMBL1215148\", \"name\": \"CHEMBL1215148\"}, {\"id\": \"CHEMBL.COMPOUND:CHEMBL2029905\", \"name\": \"CHEMBL2029905\"}, {\"id\": \"CHEMBL.COMPOUND:CHEMBL489914\", \"name\": \"CHEMBL489914\"}, {\"id\": \"CHEMBL.COMPOUND:CHEMBL3417325\", \"name\": \"CHEMBL3417325\"}, {\"id\": \"CHEMBL.COMPOUND:CHEMBL3237188\", \"name\": \"CHEMBL3237188\"}, {\"id\": \"CHEMBL.COMPOUND:CHEMBL405120\", \"name\": \"CHEMBL405120\"}, {\"id\": \"CHEMBL.COMPOUND:CHEMBL482968\", \"name\": \"ENMD-2076\"}, {\"id\": \"CHEMBL.COMPOUND:CHEMBL2207506\", \"name\": \"CHEMBL2207506\"}, {\"id\": \"CHEMBL.COMPOUND:CHEMBL1083774\", \"name\": \"CHEMBL1083774\"}, {\"id\": \"CHEMBL.COMPOUND:CHEMBL490711\", \"name\": \"CHEMBL490711\"}, {\"id\": \"CHEMBL.COMPOUND:CHEMBL387190\", \"name\": \"CHEMBL387190\"}, {\"id\": \"CHEMBL.COMPOUND:CHEMBL2022120\", \"name\": \"CHEMBL2022120\"}, {\"id\": \"CHEMBL.COMPOUND:CHEMBL1099349\", \"name\": \"CHEMBL1099349\"}, {\"id\": \"CHEMBL.COMPOUND:CHEMBL512184\", \"name\": \"CHEMBL512184\"}, {\"id\": \"CHEMBL.COMPOUND:CHEMBL1651470\", \"name\": \"CHEMBL1651470\"}, {\"id\": \"CHEMBL.COMPOUND:CHEMBL3237174\", \"name\": \"CHEMBL3237174\"}, {\"id\": \"CHEMBL.COMPOUND:CHEMBL604992\", \"name\": \"CHEMBL604992\"}, {\"id\": \"CHEMBL.COMPOUND:CHEMBL2170430\", \"name\": \"CHEMBL2170430\"}, {\"id\": \"CHEMBL.COMPOUND:CHEMBL2207505\", \"name\": \"CHEMBL2207505\"}, {\"id\": \"CHEMBL.COMPOUND:CHEMBL2029903\", \"name\": \"CHEMBL2029903\"}, {\"id\": \"CHEMBL.COMPOUND:CHEMBL1777842\", \"name\": \"CHEMBL1777842\"}, {\"id\": \"CHEMBL.COMPOUND:CHEMBL516231\", \"name\": \"CHEMBL516231\"}, {\"id\": \"CHEBI:4031\", \"name\": \"cyclosporin A\"}, {\"id\": \"CHEBI:46345\", \"name\": \"5-fluorouracil\"}, {\"id\": \"CHEBI:29865\", \"name\": \"benzo[a]pyrene\"}, {\"id\": \"CHEBI:27385\", \"name\": \"tetrachloromethane\"}, {\"id\": \"CHEBI:34873\", \"name\": \"N-nitrosodiethylamine\"}, {\"id\": \"CHEBI:8069\", \"name\": \"phenobarbital\"}, {\"id\": \"CHEBI:32497\", \"name\": \"thioacetamide\"}, {\"id\": \"CHEBI:49668\", \"name\": \"gefitinib\"}, {\"id\": \"CHEBI:145417\", \"name\": \"rigosertib\"}, {\"id\": \"NCBIGene:4608\", \"name\": \"MYBPH\"}, {\"id\": \"PUBCHEM:58886963\", \"name\": \"Arsenic Trioxide\"}, {\"id\": \"NCBIGene:54842\", \"name\": \"MFSD6\"}, {\"id\": \"CHEBI:46024\", \"name\": \"trichostatin A\"}, {\"id\": \"NCBIGene:81706\", \"name\": \"PPP1R14C\"}, {\"id\": \"NCBIGene:269\", \"name\": \"AMHR2\"}, {\"id\": \"NCBIGene:4350\", \"name\": \"MPG\"}, {\"id\": \"CHEBI:6338\", \"name\": \"L787257\"}, {\"id\": \"CHEBI:6339\", \"name\": \"etoricoxib\"}, {\"id\": \"CHEBI:6497\", \"name\": \"lipoxin\"}, {\"id\": \"CHEBI:39042\", \"name\": \"1,1,1,2,2,3,3,4,4,5,5,6,6-tridecafluorohexadecane\"}, {\"id\": \"CHEMBL.COMPOUND:CHEMBL1977579\", \"name\": \"CHEMBL1977579\"}, {\"id\": \"CHEBI:50102\", \"name\": \"N-methyl-N-nitrosourea\"}, {\"id\": \"CHEBI:25255\", \"name\": \"methyl methanesulfonate\"}, {\"id\": \"CHEBI:21759\", \"name\": \"N-methyl-N'-nitro-N-nitrosoguanidine\"}, {\"id\": \"CHEBI:59050\", \"name\": \"dimethyl sulfate\"}, {\"id\": \"CHEBI:25434\", \"name\": \"bis(2-chloroethyl) sulfide\"}, {\"id\": \"CHEBI:72564\", \"name\": \"temozolomide\"}, {\"id\": \"CHEBI:2504\", \"name\": \"aflatoxin B1\"}, {\"id\": \"NCBIGene:81607\", \"name\": \"NECTIN4\"}], \"links\": [{\"source\": \"CHEBI:27994\", \"target\": \"NCBIGene:3558\", \"name\": [\"directly_interacts_with\"]}, {\"source\": \"NCBIGene:3558\", \"target\": \"MONDO:0004619\", \"name\": [\"gene_associated_with_condition\"]}, {\"source\": \"NCBIGene:3558\", \"target\": \"CHEBI:15367\", \"name\": [\"decreases_activity_of\"]}, {\"source\": \"NCBIGene:3558\", \"target\": \"GTOPDB:4933\", \"name\": [\"has_gene_product\"]}, {\"source\": \"NCBIGene:3558\", \"target\": \"CHEBI:27363\", \"name\": [\"affects_localization_of\"]}, {\"source\": \"NCBIGene:3558\", \"target\": \"MESH:C081159\", \"name\": [\"increases_response_to\"]}, {\"source\": \"NCBIGene:3558\", \"target\": \"CHEBI:41879\", \"name\": [\"decreases_response_to\"]}, {\"source\": \"MONDO:0004619\", \"target\": \"NCBIGene:3558\", \"name\": [\"gene_associated_with_condition\"]}, {\"source\": \"MONDO:0004619\", \"target\": \"NCBIGene:1805\", \"name\": [\"gene_associated_with_condition\"]}, {\"source\": \"MONDO:0004619\", \"target\": \"NCBIGene:10974\", \"name\": [\"gene_associated_with_condition\"]}, {\"source\": \"MONDO:0004619\", \"target\": \"NCBIGene:4155\", \"name\": [\"gene_associated_with_condition\"]}, {\"source\": \"CHEBI:86512\", \"target\": \"NCBIGene:3558\", \"name\": [\"directly_interacts_with\"]}, {\"source\": \"CHEBI:74020\", \"target\": \"NCBIGene:3558\", \"name\": [\"directly_interacts_with\"]}, {\"source\": \"CHEMBL.COMPOUND:CHEMBL3289611\", \"target\": \"NCBIGene:3558\", \"name\": [\"directly_interacts_with\"]}, {\"source\": \"CHEMBL.COMPOUND:CHEMBL3289607\", \"target\": \"NCBIGene:3558\", \"name\": [\"directly_interacts_with\"]}, {\"source\": \"CHEBI:7775\", \"target\": \"NCBIGene:3558\", \"name\": [\"directly_interacts_with\"]}, {\"source\": \"CHEBI:4933\", \"target\": \"NCBIGene:3558\", \"name\": [\"directly_interacts_with\"]}, {\"source\": \"CHEBI:2244\", \"target\": \"NCBIGene:3558\", \"name\": [\"directly_interacts_with\"]}, {\"source\": \"CHEBI:123798\", \"target\": \"NCBIGene:3558\", \"name\": [\"directly_interacts_with\"]}, {\"source\": \"CHEBI:6623\", \"target\": \"NCBIGene:3558\", \"name\": [\"directly_interacts_with\"]}, {\"source\": \"CHEBI:6623\", \"target\": \"NCBIGene:6790\", \"name\": [\"directly_interacts_with\"]}, {\"source\": \"CHEBI:5641\", \"target\": \"NCBIGene:3558\", \"name\": [\"directly_interacts_with\"]}, {\"source\": \"CHEBI:23994\", \"target\": \"NCBIGene:3558\", \"name\": [\"directly_interacts_with\"]}, {\"source\": \"CHEBI:15625\", \"target\": \"NCBIGene:3558\", \"name\": [\"directly_interacts_with\"]}, {\"source\": \"CHEBI:2336\", \"target\": \"NCBIGene:3558\", \"name\": [\"directly_interacts_with\"]}, {\"source\": \"CHEBI:2336\", \"target\": \"NCBIGene:959\", \"name\": [\"directly_interacts_with\"]}, {\"source\": \"CHEBI:2336\", \"target\": \"NCBIGene:6360\", \"name\": [\"directly_interacts_with\"]}, {\"source\": \"CHEBI:2336\", \"target\": \"NCBIGene:269\", \"name\": [\"directly_interacts_with\"]}, {\"source\": \"CHEBI:121850\", \"target\": \"NCBIGene:3558\", \"name\": [\"directly_interacts_with\"]}, {\"source\": \"CHEBI:104895\", \"target\": \"NCBIGene:3558\", \"name\": [\"directly_interacts_with\"]}, {\"source\": \"CHEBI:2803\", \"target\": \"NCBIGene:3558\", \"name\": [\"directly_interacts_with\"]}, {\"source\": \"CHEBI:114850\", \"target\": \"NCBIGene:3558\", \"name\": [\"directly_interacts_with\"]}, {\"source\": \"CHEBI:15939\", \"target\": \"NCBIGene:3558\", \"name\": [\"directly_interacts_with\"]}, {\"source\": \"CHEBI:241\", \"target\": \"NCBIGene:3558\", \"name\": [\"directly_interacts_with\"]}, {\"source\": \"CHEBI:27924\", \"target\": \"NCBIGene:3558\", \"name\": [\"directly_interacts_with\"]}, {\"source\": \"CHEBI:135926\", \"target\": \"NCBIGene:3558\", \"name\": [\"directly_interacts_with\"]}, {\"source\": \"CHEBI:135926\", \"target\": \"MONDO:0004619\", \"name\": [\"literature_co-occurrence\"]}, {\"source\": \"CHEBI:16078\", \"target\": \"NCBIGene:3558\", \"name\": [\"directly_interacts_with\"]}, {\"source\": \"CHEBI:1322\", \"target\": \"NCBIGene:3558\", \"name\": [\"directly_interacts_with\"]}, {\"source\": \"CHEBI:7847\", \"target\": \"NCBIGene:3558\", \"name\": [\"directly_interacts_with\"]}, {\"source\": \"CHEBI:31404\", \"target\": \"NCBIGene:3558\", \"name\": [\"directly_interacts_with\"]}, {\"source\": \"CHEBI:3501\", \"target\": \"NCBIGene:3558\", \"name\": [\"directly_interacts_with\"]}, {\"source\": \"CHEBI:24012\", \"target\": \"NCBIGene:3558\", \"name\": [\"directly_interacts_with\"]}, {\"source\": \"CHEBI:3715\", \"target\": \"NCBIGene:3558\", \"name\": [\"directly_interacts_with\"]}, {\"source\": \"CHEBI:3715\", \"target\": \"NCBIGene:4155\", \"name\": [\"directly_interacts_with\"]}, {\"source\": \"CHEBI:6386\", \"target\": \"NCBIGene:3558\", \"name\": [\"directly_interacts_with\"]}, {\"source\": \"CHEBI:74990\", \"target\": \"NCBIGene:3558\", \"name\": [\"directly_interacts_with\"]}, {\"source\": \"CHEBI:74990\", \"target\": \"NCBIGene:4155\", \"name\": [\"directly_interacts_with\"]}, {\"source\": \"CHEBI:5921\", \"target\": \"NCBIGene:3558\", \"name\": [\"directly_interacts_with\"]}, {\"source\": \"CHEBI:5921\", \"target\": \"NCBIGene:1805\", \"name\": [\"directly_interacts_with\"]}, {\"source\": \"CHEBI:5921\", \"target\": \"NCBIGene:4179\", \"name\": [\"directly_interacts_with\"]}, {\"source\": \"CHEBI:72292\", \"target\": \"NCBIGene:3558\", \"name\": [\"directly_interacts_with\"]}, {\"source\": \"CHEBI:31703\", \"target\": \"NCBIGene:3558\", \"name\": [\"directly_interacts_with\"]}, {\"source\": \"PUBCHEM:26346\", \"target\": \"NCBIGene:3558\", \"name\": [\"directly_interacts_with\"]}, {\"source\": \"CHEBI:2543\", \"target\": \"NCBIGene:3558\", \"name\": [\"directly_interacts_with\"]}, {\"source\": \"CHEBI:5757\", \"target\": \"NCBIGene:3558\", \"name\": [\"directly_interacts_with\"]}, {\"source\": \"CHEBI:5757\", \"target\": \"NCBIGene:10974\", \"name\": [\"directly_interacts_with\"]}, {\"source\": \"CHEBI:5757\", \"target\": \"NCBIGene:6790\", \"name\": [\"directly_interacts_with\"]}, {\"source\": \"CHEBI:712\", \"target\": \"NCBIGene:3558\", \"name\": [\"directly_interacts_with\"]}, {\"source\": \"CHEBI:36231\", \"target\": \"NCBIGene:3558\", \"name\": [\"directly_interacts_with\"]}, {\"source\": \"CHEBI:26346\", \"target\": \"NCBIGene:3558\", \"name\": [\"directly_interacts_with\"]}, {\"source\": \"CHEBI:289\", \"target\": \"NCBIGene:3558\", \"name\": [\"directly_interacts_with\"]}, {\"source\": \"GTOPDB:4933\", \"target\": \"NCBIGene:3558\", \"name\": [\"directly_interacts_with\"]}, {\"source\": \"CHEBI:15367\", \"target\": \"MONDO:0004619\", \"name\": [\"literature_co-occurrence\"]}, {\"source\": \"CHEBI:17578\", \"target\": \"NCBIGene:3558\", \"name\": [\"decreases_activity_of\"]}, {\"source\": \"CHEBI:31823\", \"target\": \"NCBIGene:3558\", \"name\": [\"decreases_activity_of\"]}, {\"source\": \"CHEBI:31823\", \"target\": \"NCBIGene:3558\", \"name\": [\"decreases_secretion_of\"]}, {\"source\": \"CHEBI:16716\", \"target\": \"NCBIGene:3558\", \"name\": [\"decreases_activity_of\"]}, {\"source\": \"CHEBI:16716\", \"target\": \"MONDO:0004619\", \"name\": [\"literature_co-occurrence\"]}, {\"source\": \"CHEBI:474053\", \"target\": \"NCBIGene:3558\", \"name\": [\"decreases_activity_of\"]}, {\"source\": \"CHEBI:51209\", \"target\": \"NCBIGene:3558\", \"name\": [\"decreases_activity_of\"]}, {\"source\": \"CHEMBL.COMPOUND:CHEMBL3646778\", \"target\": \"NCBIGene:3558\", \"name\": [\"decreases_activity_of\"]}, {\"source\": \"CHEMBL.COMPOUND:CHEMBL3646776\", \"target\": \"NCBIGene:3558\", \"name\": [\"decreases_activity_of\"]}, {\"source\": \"CHEMBL.COMPOUND:CHEMBL3646774\", \"target\": \"NCBIGene:3558\", \"name\": [\"decreases_activity_of\"]}, {\"source\": \"CHEMBL.COMPOUND:CHEMBL3646775\", \"target\": \"NCBIGene:3558\", \"name\": [\"decreases_activity_of\"]}, {\"source\": \"CHEMBL.COMPOUND:CHEMBL3646777\", \"target\": \"NCBIGene:3558\", \"name\": [\"decreases_activity_of\"]}, {\"source\": \"CHEBI:47417\", \"target\": \"NCBIGene:3558\", \"name\": [\"decreases_activity_of\"]}, {\"source\": \"CHEMBL.COMPOUND:CHEMBL3646779\", \"target\": \"NCBIGene:3558\", \"name\": [\"decreases_activity_of\"]}, {\"source\": \"CHEMBL.COMPOUND:CHEMBL3646780\", \"target\": \"NCBIGene:3558\", \"name\": [\"decreases_activity_of\"]}, {\"source\": \"CHEMBL.COMPOUND:CHEMBL3646782\", \"target\": \"NCBIGene:3558\", \"name\": [\"decreases_activity_of\"]}, {\"source\": \"CHEMBL.COMPOUND:CHEMBL3646781\", \"target\": \"NCBIGene:3558\", \"name\": [\"decreases_activity_of\"]}, {\"source\": \"CHEBI:63954\", \"target\": \"NCBIGene:3558\", \"name\": [\"increases_activity_of\"]}, {\"source\": \"CHEBI:63954\", \"target\": \"NCBIGene:3558\", \"name\": [\"increases_expression_of\"]}, {\"source\": \"CHEBI:63954\", \"target\": \"NCBIGene:3558\", \"name\": [\"increases_secretion_of\"]}, {\"source\": \"CHEBI:63954\", \"target\": \"MONDO:0004619\", \"name\": [\"literature_co-occurrence\"]}, {\"source\": \"CHEBI:37537\", \"target\": \"NCBIGene:3558\", \"name\": [\"increases_activity_of\"]}, {\"source\": \"CHEBI:37537\", \"target\": \"NCBIGene:3558\", \"name\": [\"increases_expression_of\"]}, {\"source\": \"CHEBI:37537\", \"target\": \"NCBIGene:3558\", \"name\": [\"increases_secretion_of\"]}, {\"source\": \"CHEBI:37537\", \"target\": \"MONDO:0004619\", \"name\": [\"literature_co-occurrence\"]}, {\"source\": \"CHEBI:16796\", \"target\": \"NCBIGene:3558\", \"name\": [\"increases_activity_of\"]}, {\"source\": \"CHEBI:16796\", \"target\": \"MONDO:0004619\", \"name\": [\"literature_co-occurrence\"]}, {\"source\": \"CHEBI:27363\", \"target\": \"MONDO:0004619\", \"name\": [\"literature_co-occurrence\"]}, {\"source\": \"CHEBI:61057\", \"target\": \"NCBIGene:3558\", \"name\": [\"decreases_expression_of\"]}, {\"source\": \"CHEBI:61057\", \"target\": \"MONDO:0004619\", \"name\": [\"literature_co-occurrence\"]}, {\"source\": \"CHEBI:17823\", \"target\": \"NCBIGene:3558\", \"name\": [\"decreases_expression_of\"]}, {\"source\": \"CHEBI:17823\", \"target\": \"NCBIGene:3558\", \"name\": [\"decreases_secretion_of\"]}, {\"source\": \"CHEBI:17823\", \"target\": \"MONDO:0004619\", \"name\": [\"literature_co-occurrence\"]}, {\"source\": \"CHEBI:45713\", \"target\": \"NCBIGene:3558\", \"name\": [\"decreases_expression_of\"]}, {\"source\": \"MESH:D010936\", \"target\": \"NCBIGene:3558\", \"name\": [\"decreases_expression_of\"]}, {\"source\": \"MESH:D010936\", \"target\": \"NCBIGene:3558\", \"name\": [\"increases_secretion_of\"]}, {\"source\": \"MESH:D010936\", \"target\": \"NCBIGene:3558\", \"name\": [\"decreases_secretion_of\"]}, {\"source\": \"CHEBI:34718\", \"target\": \"NCBIGene:3558\", \"name\": [\"increases_expression_of\"]}, {\"source\": \"CHEBI:34718\", \"target\": \"NCBIGene:3558\", \"name\": [\"increases_secretion_of\"]}, {\"source\": \"CHEBI:16412\", \"target\": \"NCBIGene:3558\", \"name\": [\"increases_expression_of\"]}, {\"source\": \"CHEBI:16412\", \"target\": \"NCBIGene:3558\", \"name\": [\"increases_secretion_of\"]}, {\"source\": \"CHEBI:16412\", \"target\": \"NCBIGene:3558\", \"name\": [\"affects_secretion_of\"]}, {\"source\": \"CHEBI:16412\", \"target\": \"MONDO:0004619\", \"name\": [\"literature_co-occurrence\"]}, {\"source\": \"CHEBI:16602\", \"target\": \"NCBIGene:3558\", \"name\": [\"increases_expression_of\"]}, {\"source\": \"CHEBI:16602\", \"target\": \"NCBIGene:3558\", \"name\": [\"decreases_secretion_of\"]}, {\"source\": \"CHEBI:16602\", \"target\": \"MONDO:0004619\", \"name\": [\"literature_co-occurrence\"]}, {\"source\": \"CHEMBL.COMPOUND:CHEMBL513300\", \"target\": \"NCBIGene:3558\", \"name\": [\"increases_expression_of\"]}, {\"source\": \"CHEMBL.COMPOUND:CHEMBL513300\", \"target\": \"NCBIGene:3558\", \"name\": [\"affects_secretion_of\"]}, {\"source\": \"CHEMBL.COMPOUND:CHEMBL513300\", \"target\": \"NCBIGene:3558\", \"name\": [\"increases_stability_of\"]}, {\"source\": \"MESH:D015054\", \"target\": \"NCBIGene:3558\", \"name\": [\"increases_expression_of\"]}, {\"source\": \"MESH:D001335\", \"target\": \"NCBIGene:3558\", \"name\": [\"increases_expression_of\"]}, {\"source\": \"CHEBI:15368\", \"target\": \"NCBIGene:3558\", \"name\": [\"decreases_molecular_interaction\"]}, {\"source\": \"CHEBI:15368\", \"target\": \"NCBIGene:3558\", \"name\": [\"decreases_secretion_of\"]}, {\"source\": \"CHEBI:80828\", \"target\": \"NCBIGene:3558\", \"name\": [\"increases_molecular_interaction\"]}, {\"source\": \"CHEBI:41879\", \"target\": \"NCBIGene:3558\", \"name\": [\"decreases_secretion_of\"]}, {\"source\": \"CHEBI:41879\", \"target\": \"MONDO:0004619\", \"name\": [\"literature_co-occurrence\"]}, {\"source\": \"CHEBI:9168\", \"target\": \"NCBIGene:3558\", \"name\": [\"decreases_response_to\"]}, {\"source\": \"CHEBI:9168\", \"target\": \"MONDO:0004619\", \"name\": [\"literature_co-occurrence\"]}, {\"source\": \"CHEBI:7459\", \"target\": \"NCBIGene:3558\", \"name\": [\"decreases_response_to\"]}, {\"source\": \"CHEBI:34690\", \"target\": \"NCBIGene:3558\", \"name\": [\"decreases_response_to\"]}, {\"source\": \"CHEBI:38728\", \"target\": \"NCBIGene:3558\", \"name\": [\"decreases_response_to\"]}, {\"source\": \"CHEBI:38508\", \"target\": \"NCBIGene:3558\", \"name\": [\"decreases_response_to\"]}, {\"source\": \"CHEBI:27827\", \"target\": \"NCBIGene:3558\", \"name\": [\"decreases_response_to\"]}, {\"source\": \"CHEBI:3390\", \"target\": \"NCBIGene:3558\", \"name\": [\"decreases_response_to\"]}, {\"source\": \"CHEBI:3390\", \"target\": \"MONDO:0004619\", \"name\": [\"literature_co-occurrence\"]}, {\"source\": \"CHEBI:17688\", \"target\": \"NCBIGene:3558\", \"name\": [\"decreases_response_to\"]}, {\"source\": \"CHEBI:2555\", \"target\": \"NCBIGene:3558\", \"name\": [\"decreases_response_to\"]}, {\"source\": \"CHEBI:2555\", \"target\": \"MONDO:0004619\", \"name\": [\"literature_co-occurrence\"]}, {\"source\": \"CHEBI:34611\", \"target\": \"NCBIGene:3558\", \"name\": [\"decreases_response_to\"]}, {\"source\": \"CHEMBL.COMPOUND:CHEMBL1903674\", \"target\": \"NCBIGene:3558\", \"name\": [\"decreases_response_to\"]}, {\"source\": \"MESH:D005620\", \"target\": \"NCBIGene:3558\", \"name\": [\"decreases_response_to\"]}, {\"source\": \"CHEBI:17967\", \"target\": \"NCBIGene:3558\", \"name\": [\"increases_secretion_of\"]}, {\"source\": \"CHEBI:16842\", \"target\": \"NCBIGene:3558\", \"name\": [\"increases_secretion_of\"]}, {\"source\": \"CHEBI:16842\", \"target\": \"MONDO:0004619\", \"name\": [\"literature_co-occurrence\"]}, {\"source\": \"CHEBI:16469\", \"target\": \"NCBIGene:3558\", \"name\": [\"increases_secretion_of\"]}, {\"source\": \"CHEBI:16469\", \"target\": \"NCBIGene:6790\", \"name\": [\"increases_expression_of\"]}, {\"source\": \"CHEBI:16469\", \"target\": \"MONDO:0004619\", \"name\": [\"literature_co-occurrence\"]}, {\"source\": \"CHEBI:28119\", \"target\": \"NCBIGene:3558\", \"name\": [\"increases_secretion_of\"]}, {\"source\": \"CHEBI:28119\", \"target\": \"NCBIGene:4155\", \"name\": [\"increases_expression_of\"]}, {\"source\": \"CHEBI:28119\", \"target\": \"NCBIGene:959\", \"name\": [\"decreases_response_to\"]}, {\"source\": \"CHEBI:28119\", \"target\": \"NCBIGene:4350\", \"name\": [\"increases_expression_of\"]}, {\"source\": \"CHEBI:28119\", \"target\": \"NCBIGene:4350\", \"name\": [\"affects_expression_of\"]}, {\"source\": \"CHEBI:28119\", \"target\": \"MONDO:0004619\", \"name\": [\"literature_co-occurrence\"]}, {\"source\": \"CHEBI:4903\", \"target\": \"NCBIGene:3558\", \"name\": [\"increases_secretion_of\"]}, {\"source\": \"CHEMBL.COMPOUND:CHEMBL1355736\", \"target\": \"NCBIGene:3558\", \"name\": [\"increases_secretion_of\"]}, {\"source\": \"CHEBI:6637\", \"target\": \"NCBIGene:3558\", \"name\": [\"increases_secretion_of\"]}, {\"source\": \"CHEBI:4917\", \"target\": \"NCBIGene:3558\", \"name\": [\"increases_secretion_of\"]}, {\"source\": \"PUBCHEM:90478637\", \"target\": \"NCBIGene:3558\", \"name\": [\"increases_secretion_of\"]}, {\"source\": \"PUBCHEM:10325914\", \"target\": \"NCBIGene:3558\", \"name\": [\"increases_secretion_of\"]}, {\"source\": \"CHEBI:53001\", \"target\": \"NCBIGene:3558\", \"name\": [\"increases_secretion_of\"]}, {\"source\": \"CHEBI:34887\", \"target\": \"NCBIGene:3558\", \"name\": [\"increases_secretion_of\"]}, {\"source\": \"CHEMBL.COMPOUND:CHEMBL126077\", \"target\": \"NCBIGene:3558\", \"name\": [\"increases_secretion_of\"]}, {\"source\": \"CHEBI:107643\", \"target\": \"NCBIGene:3558\", \"name\": [\"increases_secretion_of\"]}, {\"source\": \"CHEBI:33130\", \"target\": \"NCBIGene:3558\", \"name\": [\"increases_secretion_of\"]}, {\"source\": \"CHEBI:33130\", \"target\": \"MONDO:0004619\", \"name\": [\"literature_co-occurrence\"]}, {\"source\": \"CHEBI:35696\", \"target\": \"NCBIGene:3558\", \"name\": [\"increases_secretion_of\"]}, {\"source\": \"CHEBI:35696\", \"target\": \"NCBIGene:3558\", \"name\": [\"decreases_secretion_of\"]}, {\"source\": \"CHEBI:53621\", \"target\": \"NCBIGene:3558\", \"name\": [\"increases_secretion_of\"]}, {\"source\": \"CHEBI:34292\", \"target\": \"NCBIGene:3558\", \"name\": [\"increases_secretion_of\"]}, {\"source\": \"CHEBI:52290\", \"target\": \"NCBIGene:3558\", \"name\": [\"increases_secretion_of\"]}, {\"source\": \"CHEBI:52290\", \"target\": \"MONDO:0004619\", \"name\": [\"literature_co-occurrence\"]}, {\"source\": \"MESH:D011070\", \"target\": \"NCBIGene:3558\", \"name\": [\"increases_secretion_of\"]}, {\"source\": \"CHEBI:22986\", \"target\": \"NCBIGene:3558\", \"name\": [\"increases_secretion_of\"]}, {\"source\": \"CHEBI:22986\", \"target\": \"MONDO:0004619\", \"name\": [\"literature_co-occurrence\"]}, {\"source\": \"CHEBI:27594\", \"target\": \"NCBIGene:3558\", \"name\": [\"increases_secretion_of\"]}, {\"source\": \"CHEBI:27594\", \"target\": \"MONDO:0004619\", \"name\": [\"literature_co-occurrence\"]}, {\"source\": \"CHEBI:33128\", \"target\": \"NCBIGene:3558\", \"name\": [\"increases_secretion_of\"]}, {\"source\": \"MESH:C499366\", \"target\": \"NCBIGene:3558\", \"name\": [\"increases_secretion_of\"]}, {\"source\": \"MESH:D000534\", \"target\": \"NCBIGene:3558\", \"name\": [\"increases_secretion_of\"]}, {\"source\": \"MESH:C554150\", \"target\": \"NCBIGene:3558\", \"name\": [\"increases_secretion_of\"]}, {\"source\": \"CHEBI:55365\", \"target\": \"NCBIGene:3558\", \"name\": [\"increases_secretion_of\"]}, {\"source\": \"CHEBI:86919\", \"target\": \"NCBIGene:3558\", \"name\": [\"increases_secretion_of\"]}, {\"source\": \"CHEBI:17790\", \"target\": \"NCBIGene:3558\", \"name\": [\"increases_secretion_of\"]}, {\"source\": \"CHEBI:17790\", \"target\": \"MONDO:0004619\", \"name\": [\"literature_co-occurrence\"]}, {\"source\": \"MESH:C036643\", \"target\": \"NCBIGene:3558\", \"name\": [\"increases_secretion_of\"]}, {\"source\": \"MESH:C008290\", \"target\": \"NCBIGene:3558\", \"name\": [\"increases_secretion_of\"]}, {\"source\": \"CHEBI:51403\", \"target\": \"NCBIGene:3558\", \"name\": [\"increases_secretion_of\"]}, {\"source\": \"MESH:C006048\", \"target\": \"NCBIGene:3558\", \"name\": [\"increases_secretion_of\"]}, {\"source\": \"MESH:C007076\", \"target\": \"NCBIGene:3558\", \"name\": [\"increases_secretion_of\"]}, {\"source\": \"CHEBI:3086\", \"target\": \"NCBIGene:3558\", \"name\": [\"increases_secretion_of\"]}, {\"source\": \"CHEBI:6716\", \"target\": \"NCBIGene:3558\", \"name\": [\"decreases_secretion_of\"]}, {\"source\": \"CHEBI:6716\", \"target\": \"NCBIGene:959\", \"name\": [\"decreases_activity_of\"]}, {\"source\": \"CHEBI:6716\", \"target\": \"MONDO:0004619\", \"name\": [\"literature_co-occurrence\"]}, {\"source\": \"CHEBI:6067\", \"target\": \"NCBIGene:3558\", \"name\": [\"decreases_secretion_of\"]}, {\"source\": \"CHEBI:35456\", \"target\": \"NCBIGene:3558\", \"name\": [\"decreases_secretion_of\"]}, {\"source\": \"CHEBI:35456\", \"target\": \"NCBIGene:6790\", \"name\": [\"decreases_expression_of\"]}, {\"source\": \"CHEBI:35456\", \"target\": \"MONDO:0004619\", \"name\": [\"literature_co-occurrence\"]}, {\"source\": \"CHEBI:16243\", \"target\": \"NCBIGene:3558\", \"name\": [\"decreases_secretion_of\"]}, {\"source\": \"CHEBI:16243\", \"target\": \"MONDO:0004619\", \"name\": [\"literature_co-occurrence\"]}, {\"source\": \"CHEBI:44185\", \"target\": \"NCBIGene:3558\", \"name\": [\"decreases_secretion_of\"]}, {\"source\": \"CHEBI:44185\", \"target\": \"MONDO:0004619\", \"name\": [\"literature_co-occurrence\"]}, {\"source\": \"CHEBI:20993\", \"target\": \"NCBIGene:3558\", \"name\": [\"decreases_secretion_of\"]}, {\"source\": \"CHEBI:27638\", \"target\": \"NCBIGene:3558\", \"name\": [\"decreases_secretion_of\"]}, {\"source\": \"CHEBI:27638\", \"target\": \"MONDO:0004619\", \"name\": [\"literature_co-occurrence\"]}, {\"source\": \"CHEBI:3962\", \"target\": \"NCBIGene:3558\", \"name\": [\"decreases_secretion_of\"]}, {\"source\": \"CHEBI:53509\", \"target\": \"NCBIGene:3558\", \"name\": [\"decreases_secretion_of\"]}, {\"source\": \"CHEBI:7719\", \"target\": \"NCBIGene:3558\", \"name\": [\"decreases_secretion_of\"]}, {\"source\": \"CHEBI:39421\", \"target\": \"NCBIGene:3558\", \"name\": [\"decreases_secretion_of\"]}, {\"source\": \"CHEBI:27563\", \"target\": \"NCBIGene:3558\", \"name\": [\"decreases_secretion_of\"]}, {\"source\": \"CHEBI:27563\", \"target\": \"MONDO:0004619\", \"name\": [\"literature_co-occurrence\"]}, {\"source\": \"CHEBI:78886\", \"target\": \"NCBIGene:3558\", \"name\": [\"decreases_secretion_of\"]}, {\"source\": \"CHEBI:29678\", \"target\": \"NCBIGene:3558\", \"name\": [\"decreases_secretion_of\"]}, {\"source\": \"CHEBI:29678\", \"target\": \"MONDO:0004619\", \"name\": [\"literature_co-occurrence\"]}, {\"source\": \"CHEBI:38397\", \"target\": \"NCBIGene:3558\", \"name\": [\"decreases_secretion_of\"]}, {\"source\": \"CHEBI:38397\", \"target\": \"MONDO:0004619\", \"name\": [\"literature_co-occurrence\"]}, {\"source\": \"CHEBI:27789\", \"target\": \"NCBIGene:3558\", \"name\": [\"decreases_secretion_of\"]}, {\"source\": \"CHEBI:47808\", \"target\": \"NCBIGene:3558\", \"name\": [\"decreases_secretion_of\"]}, {\"source\": \"CHEBI:4806\", \"target\": \"NCBIGene:3558\", \"name\": [\"decreases_secretion_of\"]}, {\"source\": \"MESH:D063086\", \"target\": \"NCBIGene:3558\", \"name\": [\"decreases_secretion_of\"]}, {\"source\": \"MESH:D052638\", \"target\": \"NCBIGene:3558\", \"name\": [\"decreases_secretion_of\"]}, {\"source\": \"MESH:D002858\", \"target\": \"NCBIGene:3558\", \"name\": [\"decreases_secretion_of\"]}, {\"source\": \"MESH:D003520\", \"target\": \"NCBIGene:3558\", \"name\": [\"decreases_secretion_of\"]}, {\"source\": \"CHEBI:78036\", \"target\": \"NCBIGene:3558\", \"name\": [\"decreases_secretion_of\"]}, {\"source\": \"MESH:D002087\", \"target\": \"NCBIGene:3558\", \"name\": [\"decreases_secretion_of\"]}, {\"source\": \"CHEBI:145256\", \"target\": \"NCBIGene:3558\", \"name\": [\"decreases_secretion_of\"]}, {\"source\": \"CHEBI:63952\", \"target\": \"NCBIGene:3558\", \"name\": [\"decreases_secretion_of\"]}, {\"source\": \"MESH:C517552\", \"target\": \"NCBIGene:3558\", \"name\": [\"decreases_secretion_of\"]}, {\"source\": \"MESH:C012796\", \"target\": \"NCBIGene:3558\", \"name\": [\"decreases_secretion_of\"]}, {\"source\": \"MESH:C017461\", \"target\": \"NCBIGene:3558\", \"name\": [\"decreases_secretion_of\"]}, {\"source\": \"MESH:C038016\", \"target\": \"NCBIGene:3558\", \"name\": [\"decreases_secretion_of\"]}, {\"source\": \"CHEMBL.COMPOUND:CHEMBL152423\", \"target\": \"NCBIGene:3558\", \"name\": [\"affects_secretion_of\"]}, {\"source\": \"CHEMBL.COMPOUND:CHEMBL468823\", \"target\": \"NCBIGene:3558\", \"name\": [\"affects_secretion_of\"]}, {\"source\": \"PUBCHEM:104759\", \"target\": \"NCBIGene:3558\", \"name\": [\"affects_secretion_of\"]}, {\"source\": \"CHEBI:230243\", \"target\": \"NCBIGene:3558\", \"name\": [\"affects_secretion_of\"]}, {\"source\": \"CHEMBL.COMPOUND:CHEMBL509655\", \"target\": \"NCBIGene:3558\", \"name\": [\"affects_secretion_of\"]}, {\"source\": \"CHEBI:34936\", \"target\": \"NCBIGene:3558\", \"name\": [\"decreases_stability_of\"]}, {\"source\": \"CHEBI:9416\", \"target\": \"NCBIGene:1805\", \"name\": [\"directly_interacts_with\"]}, {\"source\": \"NCBIGene:1805\", \"target\": \"MONDO:0004619\", \"name\": [\"gene_associated_with_condition\"]}, {\"source\": \"NCBIGene:1805\", \"target\": \"CHEBI:53444\", \"name\": [\"decreases_response_to\"]}, {\"source\": \"CHEBI:5994\", \"target\": \"NCBIGene:10974\", \"name\": [\"directly_interacts_with\"]}, {\"source\": \"NCBIGene:10974\", \"target\": \"MONDO:0004619\", \"name\": [\"gene_associated_with_condition\"]}, {\"source\": \"NCBIGene:10974\", \"target\": \"CHEBI:44185\", \"name\": [\"affects_response_to\"]}, {\"source\": \"CHEBI:126941\", \"target\": \"NCBIGene:10974\", \"name\": [\"directly_interacts_with\"]}, {\"source\": \"CHEBI:3385\", \"target\": \"NCBIGene:10974\", \"name\": [\"directly_interacts_with\"]}, {\"source\": \"CHEBI:24262\", \"target\": \"NCBIGene:10974\", \"name\": [\"directly_interacts_with\"]}, {\"source\": \"CHEBI:5746\", \"target\": \"NCBIGene:4155\", \"name\": [\"directly_interacts_with\"]}, {\"source\": \"NCBIGene:4155\", \"target\": \"MONDO:0004619\", \"name\": [\"gene_associated_with_condition\"]}, {\"source\": \"NCBIGene:4155\", \"target\": \"CHEBI:16716\", \"name\": [\"affects_response_to\"]}, {\"source\": \"NCBIGene:4155\", \"target\": \"CHEBI:27504\", \"name\": [\"affects_response_to\"]}, {\"source\": \"NCBIGene:4155\", \"target\": \"CHEBI:63632\", \"name\": [\"affects_response_to\"]}, {\"source\": \"NCBIGene:4155\", \"target\": \"CHEBI:4911\", \"name\": [\"affects_response_to\"]}, {\"source\": \"CHEBI:36242\", \"target\": \"NCBIGene:4155\", \"name\": [\"directly_interacts_with\"]}, {\"source\": \"CHEBI:89594\", \"target\": \"NCBIGene:4155\", \"name\": [\"directly_interacts_with\"]}, {\"source\": \"CHEBI:89594\", \"target\": \"NCBIGene:6360\", \"name\": [\"directly_interacts_with\"]}, {\"source\": \"CHEBI:89594\", \"target\": \"NCBIGene:269\", \"name\": [\"directly_interacts_with\"]}, {\"source\": \"CHEBI:60700\", \"target\": \"NCBIGene:4155\", \"name\": [\"directly_interacts_with\"]}, {\"source\": \"CHEBI:36462\", \"target\": \"NCBIGene:4155\", \"name\": [\"directly_interacts_with\"]}, {\"source\": \"PUBCHEM:9723\", \"target\": \"NCBIGene:4155\", \"name\": [\"decreases_activity_of\"]}, {\"source\": \"PUBCHEM:9723\", \"target\": \"NCBIGene:4155\", \"name\": [\"decreases_expression_of\"]}, {\"source\": \"CHEBI:27504\", \"target\": \"MONDO:0004619\", \"name\": [\"literature_co-occurrence\"]}, {\"source\": \"CHEBI:4911\", \"target\": \"MONDO:0004619\", \"name\": [\"literature_co-occurrence\"]}, {\"source\": \"CHEBI:33216\", \"target\": \"NCBIGene:4155\", \"name\": [\"decreases_expression_of\"]}, {\"source\": \"CHEBI:33216\", \"target\": \"NCBIGene:6790\", \"name\": [\"increases_expression_of\"]}, {\"source\": \"CHEBI:8502\", \"target\": \"NCBIGene:4155\", \"name\": [\"decreases_expression_of\"]}, {\"source\": \"CHEBI:39867\", \"target\": \"NCBIGene:4155\", \"name\": [\"increases_expression_of\"]}, {\"source\": \"CHEBI:39867\", \"target\": \"NCBIGene:4179\", \"name\": [\"decreases_expression_of\"]}, {\"source\": \"CHEBI:39867\", \"target\": \"NCBIGene:6790\", \"name\": [\"decreases_expression_of\"]}, {\"source\": \"CHEBI:39867\", \"target\": \"NCBIGene:54842\", \"name\": [\"increases_expression_of\"]}, {\"source\": \"CHEBI:39867\", \"target\": \"NCBIGene:81706\", \"name\": [\"increases_expression_of\"]}, {\"source\": \"CHEBI:39867\", \"target\": \"MONDO:0004619\", \"name\": [\"literature_co-occurrence\"]}, {\"source\": \"CHEBI:15724\", \"target\": \"NCBIGene:4155\", \"name\": [\"increases_molecular_interaction\"]}, {\"source\": \"CHEBI:60361\", \"target\": \"NCBIGene:4155\", \"name\": [\"interacts_with\"]}, {\"source\": \"NCBIGene:4179\", \"target\": \"MONDO:0004619\", \"name\": [\"gene_associated_with_condition\"]}, {\"source\": \"NCBIGene:4179\", \"target\": \"CHEBI:45863\", \"name\": [\"increases_response_to\"]}, {\"source\": \"NCBIGene:4179\", \"target\": \"MESH:D022542\", \"name\": [\"increases_response_to\"]}, {\"source\": \"CHEBI:36314\", \"target\": \"NCBIGene:4179\", \"name\": [\"directly_interacts_with\"]}, {\"source\": \"CHEBI:91605\", \"target\": \"NCBIGene:4179\", \"name\": [\"directly_interacts_with\"]}, {\"source\": \"CHEBI:45863\", \"target\": \"MONDO:0004619\", \"name\": [\"literature_co-occurrence\"]}, {\"source\": \"NCBIGene:959\", \"target\": \"MONDO:0004619\", \"name\": [\"gene_associated_with_condition\"]}, {\"source\": \"NCBIGene:959\", \"target\": \"CHEBI:45863\", \"name\": [\"decreases_response_to\"]}, {\"source\": \"NCBIGene:959\", \"target\": \"CHEBI:28748\", \"name\": [\"decreases_response_to\"]}, {\"source\": \"NCBIGene:959\", \"target\": \"CHEBI:4911\", \"name\": [\"decreases_response_to\"]}, {\"source\": \"CHEBI:3763\", \"target\": \"NCBIGene:959\", \"name\": [\"directly_interacts_with\"]}, {\"source\": \"CHEBI:62976\", \"target\": \"NCBIGene:959\", \"name\": [\"directly_interacts_with\"]}, {\"source\": \"CHEBI:28748\", \"target\": \"MONDO:0004619\", \"name\": [\"literature_co-occurrence\"]}, {\"source\": \"CHEBI:4653\", \"target\": \"NCBIGene:959\", \"name\": [\"decreases_secretion_of\"]}, {\"source\": \"NCBIGene:6360\", \"target\": \"MONDO:0004619\", \"name\": [\"gene_associated_with_condition\"]}, {\"source\": \"NCBIGene:973\", \"target\": \"MONDO:0004619\", \"name\": [\"gene_associated_with_condition\"]}, {\"source\": \"CHEBI:108143\", \"target\": \"NCBIGene:973\", \"name\": [\"directly_interacts_with\"]}, {\"source\": \"CHEBI:91471\", \"target\": \"NCBIGene:6790\", \"name\": [\"directly_interacts_with\"]}, {\"source\": \"NCBIGene:6790\", \"target\": \"MONDO:0004619\", \"name\": [\"gene_associated_with_condition\"]}, {\"source\": \"NCBIGene:6790\", \"target\": \"CHEBI:49668\", \"name\": [\"increases_response_to\"]}, {\"source\": \"CHEMBL.COMPOUND:CHEMBL2163388\", \"target\": \"NCBIGene:6790\", \"name\": [\"directly_interacts_with\"]}, {\"source\": \"CHEMBL.COMPOUND:CHEMBL2163401\", \"target\": \"NCBIGene:6790\", \"name\": [\"directly_interacts_with\"]}, {\"source\": \"CHEMBL.COMPOUND:CHEMBL2163390\", \"target\": \"NCBIGene:6790\", \"name\": [\"directly_interacts_with\"]}, {\"source\": \"CHEMBL.COMPOUND:CHEMBL1822648\", \"target\": \"NCBIGene:6790\", \"name\": [\"directly_interacts_with\"]}, {\"source\": \"CHEMBL.COMPOUND:CHEMBL1822649\", \"target\": \"NCBIGene:6790\", \"name\": [\"directly_interacts_with\"]}, {\"source\": \"CHEMBL.COMPOUND:CHEMBL2163403\", \"target\": \"NCBIGene:6790\", \"name\": [\"directly_interacts_with\"]}, {\"source\": \"CHEMBL.COMPOUND:CHEMBL1822487\", \"target\": \"NCBIGene:6790\", \"name\": [\"directly_interacts_with\"]}, {\"source\": \"CHEMBL.COMPOUND:CHEMBL2207503\", \"target\": \"NCBIGene:6790\", \"name\": [\"directly_interacts_with\"]}, {\"source\": \"CHEMBL.COMPOUND:CHEMBL1822652\", \"target\": \"NCBIGene:6790\", \"name\": [\"directly_interacts_with\"]}, {\"source\": \"CHEMBL.COMPOUND:CHEMBL1822489\", \"target\": \"NCBIGene:6790\", \"name\": [\"directly_interacts_with\"]}, {\"source\": \"CHEMBL.COMPOUND:CHEMBL1822656\", \"target\": \"NCBIGene:6790\", \"name\": [\"directly_interacts_with\"]}, {\"source\": \"CHEMBL.COMPOUND:CHEMBL2163406\", \"target\": \"NCBIGene:6790\", \"name\": [\"directly_interacts_with\"]}, {\"source\": \"CHEMBL.COMPOUND:CHEMBL2163393\", \"target\": \"NCBIGene:6790\", \"name\": [\"directly_interacts_with\"]}, {\"source\": \"CHEBI:70726\", \"target\": \"NCBIGene:6790\", \"name\": [\"decreases_activity_of\"]}, {\"source\": \"CHEBI:91336\", \"target\": \"NCBIGene:6790\", \"name\": [\"decreases_activity_of\"]}, {\"source\": \"CHEBI:91362\", \"target\": \"NCBIGene:6790\", \"name\": [\"decreases_activity_of\"]}, {\"source\": \"CHEMBL.COMPOUND:CHEMBL262434\", \"target\": \"NCBIGene:6790\", \"name\": [\"decreases_activity_of\"]}, {\"source\": \"CHEMBL.COMPOUND:CHEMBL1083152\", \"target\": \"NCBIGene:6790\", \"name\": [\"decreases_activity_of\"]}, {\"source\": \"CHEMBL.COMPOUND:CHEMBL2012406\", \"target\": \"NCBIGene:6790\", \"name\": [\"decreases_activity_of\"]}, {\"source\": \"CHEMBL.COMPOUND:CHEMBL557279\", \"target\": \"NCBIGene:6790\", \"name\": [\"decreases_activity_of\"]}, {\"source\": \"CHEMBL.COMPOUND:CHEMBL516003\", \"target\": \"NCBIGene:6790\", \"name\": [\"decreases_activity_of\"]}, {\"source\": \"CHEMBL.COMPOUND:CHEMBL2170436\", \"target\": \"NCBIGene:6790\", \"name\": [\"decreases_activity_of\"]}, {\"source\": \"CHEMBL.COMPOUND:CHEMBL2170589\", \"target\": \"NCBIGene:6790\", \"name\": [\"decreases_activity_of\"]}, {\"source\": \"CHEMBL.COMPOUND:CHEMBL561834\", \"target\": \"NCBIGene:6790\", \"name\": [\"decreases_activity_of\"]}, {\"source\": \"CHEMBL.COMPOUND:CHEMBL1825092\", \"target\": \"NCBIGene:6790\", \"name\": [\"decreases_activity_of\"]}, {\"source\": \"CHEMBL.COMPOUND:CHEMBL3237167\", \"target\": \"NCBIGene:6790\", \"name\": [\"decreases_activity_of\"]}, {\"source\": \"CHEMBL.COMPOUND:CHEMBL1801109\", \"target\": \"NCBIGene:6790\", \"name\": [\"decreases_activity_of\"]}, {\"source\": \"CHEBI:125628\", \"target\": \"NCBIGene:6790\", \"name\": [\"decreases_activity_of\"]}, {\"source\": \"CHEMBL.COMPOUND:CHEMBL491773\", \"target\": \"NCBIGene:6790\", \"name\": [\"decreases_activity_of\"]}, {\"source\": \"CHEMBL.COMPOUND:CHEMBL3237166\", \"target\": \"NCBIGene:6790\", \"name\": [\"decreases_activity_of\"]}, {\"source\": \"CHEMBL.COMPOUND:CHEMBL1085607\", \"target\": \"NCBIGene:6790\", \"name\": [\"decreases_activity_of\"]}, {\"source\": \"CHEMBL.COMPOUND:CHEMBL1083484\", \"target\": \"NCBIGene:6790\", \"name\": [\"decreases_activity_of\"]}, {\"source\": \"CHEMBL.COMPOUND:CHEMBL385266\", \"target\": \"NCBIGene:6790\", \"name\": [\"decreases_activity_of\"]}, {\"source\": \"CHEMBL.COMPOUND:CHEMBL244793\", \"target\": \"NCBIGene:6790\", \"name\": [\"decreases_activity_of\"]}, {\"source\": \"CHEMBL.COMPOUND:CHEMBL1215148\", \"target\": \"NCBIGene:6790\", \"name\": [\"decreases_activity_of\"]}, {\"source\": \"CHEMBL.COMPOUND:CHEMBL2029905\", \"target\": \"NCBIGene:6790\", \"name\": [\"decreases_activity_of\"]}, {\"source\": \"CHEMBL.COMPOUND:CHEMBL489914\", \"target\": \"NCBIGene:6790\", \"name\": [\"decreases_activity_of\"]}, {\"source\": \"CHEMBL.COMPOUND:CHEMBL3417325\", \"target\": \"NCBIGene:6790\", \"name\": [\"decreases_activity_of\"]}, {\"source\": \"CHEMBL.COMPOUND:CHEMBL3237188\", \"target\": \"NCBIGene:6790\", \"name\": [\"decreases_activity_of\"]}, {\"source\": \"CHEMBL.COMPOUND:CHEMBL405120\", \"target\": \"NCBIGene:6790\", \"name\": [\"decreases_activity_of\"]}, {\"source\": \"CHEMBL.COMPOUND:CHEMBL482968\", \"target\": \"NCBIGene:6790\", \"name\": [\"decreases_activity_of\"]}, {\"source\": \"CHEMBL.COMPOUND:CHEMBL2207506\", \"target\": \"NCBIGene:6790\", \"name\": [\"decreases_activity_of\"]}, {\"source\": \"CHEMBL.COMPOUND:CHEMBL1083774\", \"target\": \"NCBIGene:6790\", \"name\": [\"decreases_activity_of\"]}, {\"source\": \"CHEMBL.COMPOUND:CHEMBL490711\", \"target\": \"NCBIGene:6790\", \"name\": [\"decreases_activity_of\"]}, {\"source\": \"CHEMBL.COMPOUND:CHEMBL387190\", \"target\": \"NCBIGene:6790\", \"name\": [\"decreases_activity_of\"]}, {\"source\": \"CHEMBL.COMPOUND:CHEMBL2022120\", \"target\": \"NCBIGene:6790\", \"name\": [\"decreases_activity_of\"]}, {\"source\": \"CHEMBL.COMPOUND:CHEMBL1099349\", \"target\": \"NCBIGene:6790\", \"name\": [\"decreases_activity_of\"]}, {\"source\": \"CHEMBL.COMPOUND:CHEMBL512184\", \"target\": \"NCBIGene:6790\", \"name\": [\"decreases_activity_of\"]}, {\"source\": \"CHEMBL.COMPOUND:CHEMBL1651470\", \"target\": \"NCBIGene:6790\", \"name\": [\"decreases_activity_of\"]}, {\"source\": \"CHEMBL.COMPOUND:CHEMBL3237174\", \"target\": \"NCBIGene:6790\", \"name\": [\"decreases_activity_of\"]}, {\"source\": \"CHEMBL.COMPOUND:CHEMBL604992\", \"target\": \"NCBIGene:6790\", \"name\": [\"decreases_activity_of\"]}, {\"source\": \"CHEMBL.COMPOUND:CHEMBL2170430\", \"target\": \"NCBIGene:6790\", \"name\": [\"decreases_activity_of\"]}, {\"source\": \"CHEMBL.COMPOUND:CHEMBL2207505\", \"target\": \"NCBIGene:6790\", \"name\": [\"decreases_activity_of\"]}, {\"source\": \"CHEMBL.COMPOUND:CHEMBL2029903\", \"target\": \"NCBIGene:6790\", \"name\": [\"decreases_activity_of\"]}, {\"source\": \"CHEMBL.COMPOUND:CHEMBL1777842\", \"target\": \"NCBIGene:6790\", \"name\": [\"decreases_activity_of\"]}, {\"source\": \"CHEMBL.COMPOUND:CHEMBL516231\", \"target\": \"NCBIGene:6790\", \"name\": [\"decreases_activity_of\"]}, {\"source\": \"CHEBI:4031\", \"target\": \"NCBIGene:6790\", \"name\": [\"decreases_expression_of\"]}, {\"source\": \"CHEBI:4031\", \"target\": \"NCBIGene:54842\", \"name\": [\"increases_expression_of\"]}, {\"source\": \"CHEBI:4031\", \"target\": \"MONDO:0004619\", \"name\": [\"literature_co-occurrence\"]}, {\"source\": \"CHEBI:46345\", \"target\": \"NCBIGene:6790\", \"name\": [\"decreases_expression_of\"]}, {\"source\": \"CHEBI:46345\", \"target\": \"MONDO:0004619\", \"name\": [\"literature_co-occurrence\"]}, {\"source\": \"CHEBI:29865\", \"target\": \"NCBIGene:6790\", \"name\": [\"decreases_expression_of\"]}, {\"source\": \"CHEBI:29865\", \"target\": \"NCBIGene:81706\", \"name\": [\"decreases_expression_of\"]}, {\"source\": \"CHEBI:29865\", \"target\": \"MONDO:0004619\", \"name\": [\"literature_co-occurrence\"]}, {\"source\": \"CHEBI:27385\", \"target\": \"NCBIGene:6790\", \"name\": [\"increases_expression_of\"]}, {\"source\": \"CHEBI:27385\", \"target\": \"MONDO:0004619\", \"name\": [\"literature_co-occurrence\"]}, {\"source\": \"CHEBI:34873\", \"target\": \"NCBIGene:6790\", \"name\": [\"increases_expression_of\"]}, {\"source\": \"CHEBI:34873\", \"target\": \"MONDO:0004619\", \"name\": [\"literature_co-occurrence\"]}, {\"source\": \"CHEBI:8069\", \"target\": \"NCBIGene:6790\", \"name\": [\"increases_expression_of\"]}, {\"source\": \"CHEBI:8069\", \"target\": \"MONDO:0004619\", \"name\": [\"literature_co-occurrence\"]}, {\"source\": \"CHEBI:32497\", \"target\": \"NCBIGene:6790\", \"name\": [\"increases_expression_of\"]}, {\"source\": \"CHEBI:32497\", \"target\": \"MONDO:0004619\", \"name\": [\"literature_co-occurrence\"]}, {\"source\": \"CHEBI:145417\", \"target\": \"NCBIGene:6790\", \"name\": [\"increases_localization_of\"]}, {\"source\": \"NCBIGene:4608\", \"target\": \"MONDO:0004619\", \"name\": [\"gene_associated_with_condition\"]}, {\"source\": \"PUBCHEM:58886963\", \"target\": \"NCBIGene:4608\", \"name\": [\"decreases_molecular_interaction\"]}, {\"source\": \"NCBIGene:54842\", \"target\": \"MONDO:0004619\", \"name\": [\"gene_associated_with_condition\"]}, {\"source\": \"CHEBI:46024\", \"target\": \"NCBIGene:54842\", \"name\": [\"increases_expression_of\"]}, {\"source\": \"NCBIGene:81706\", \"target\": \"MONDO:0004619\", \"name\": [\"gene_associated_with_condition\"]}, {\"source\": \"NCBIGene:269\", \"target\": \"MONDO:0004619\", \"name\": [\"gene_associated_with_condition\"]}, {\"source\": \"NCBIGene:4350\", \"target\": \"MONDO:0004619\", \"name\": [\"gene_associated_with_condition\"]}, {\"source\": \"NCBIGene:4350\", \"target\": \"CHEMBL.COMPOUND:CHEMBL1977579\", \"name\": [\"affects_response_to\"]}, {\"source\": \"NCBIGene:4350\", \"target\": \"CHEBI:23994\", \"name\": [\"affects_response_to\"]}, {\"source\": \"NCBIGene:4350\", \"target\": \"CHEBI:50102\", \"name\": [\"increases_response_to\"]}, {\"source\": \"NCBIGene:4350\", \"target\": \"CHEBI:50102\", \"name\": [\"decreases_response_to\"]}, {\"source\": \"NCBIGene:4350\", \"target\": \"CHEBI:25255\", \"name\": [\"increases_response_to\"]}, {\"source\": \"NCBIGene:4350\", \"target\": \"CHEBI:25255\", \"name\": [\"decreases_response_to\"]}, {\"source\": \"NCBIGene:4350\", \"target\": \"CHEBI:21759\", \"name\": [\"increases_response_to\"]}, {\"source\": \"NCBIGene:4350\", \"target\": \"CHEBI:59050\", \"name\": [\"increases_response_to\"]}, {\"source\": \"NCBIGene:4350\", \"target\": \"CHEBI:25434\", \"name\": [\"increases_response_to\"]}, {\"source\": \"NCBIGene:4350\", \"target\": \"CHEBI:72564\", \"name\": [\"increases_response_to\"]}, {\"source\": \"NCBIGene:4350\", \"target\": \"CHEBI:72564\", \"name\": [\"decreases_response_to\"]}, {\"source\": \"CHEBI:6338\", \"target\": \"NCBIGene:4350\", \"name\": [\"directly_interacts_with\"]}, {\"source\": \"CHEBI:6339\", \"target\": \"NCBIGene:4350\", \"name\": [\"directly_interacts_with\"]}, {\"source\": \"CHEBI:6497\", \"target\": \"NCBIGene:4350\", \"name\": [\"directly_interacts_with\"]}, {\"source\": \"CHEBI:6497\", \"target\": \"MONDO:0004619\", \"name\": [\"literature_co-occurrence\"]}, {\"source\": \"CHEBI:39042\", \"target\": \"NCBIGene:4350\", \"name\": [\"directly_interacts_with\"]}, {\"source\": \"CHEBI:25255\", \"target\": \"MONDO:0004619\", \"name\": [\"literature_co-occurrence\"]}, {\"source\": \"CHEBI:25434\", \"target\": \"MONDO:0004619\", \"name\": [\"literature_co-occurrence\"]}, {\"source\": \"CHEBI:72564\", \"target\": \"MONDO:0004619\", \"name\": [\"literature_co-occurrence\"]}, {\"source\": \"CHEBI:2504\", \"target\": \"NCBIGene:81607\", \"name\": [\"increases_expression_of\"]}, {\"source\": \"NCBIGene:81607\", \"target\": \"MONDO:0004619\", \"name\": [\"gene_associated_with_condition\"]}]};\n",
       "    const resizeDetector = resizeMaker({ strategy: 'scroll' });\n",
       "    const container = document.querySelector(\".force-graph-1.graph-container\");\n",
       "    container.style.overflow = \"hidden\";\n",
       "    const width = null;\n",
       "    const height = 400;\n",
       "    if (width !== null) container.style.width = width + \"px\";\n",
       "    if (height !== null) container.style.height = height + \"px\";\n",
       "\n",
       "    const titleElement = document.querySelector(\".force-graph-1.title-container\");\n",
       "\n",
       "    const title = document.createElement(\"span\");\n",
       "    title.textContent = \"Knowledge Graph 1\";\n",
       "    title.style.fontWeight = \"bold\";\n",
       "\n",
       "    const titleInfo = document.createElement(\"span\");\n",
       "    titleInfo.textContent = ` (${data.nodes.length} nodes, ${data.links.length} edges)`;\n",
       "\n",
       "    titleElement.appendChild(title);\n",
       "    titleElement.appendChild(titleInfo);\n",
       "\n",
       "    const graph = ForceGraph()(container).graphData(data)\n",
       "                                         .width(width)\n",
       "                                         .height(height);\n",
       "    resizeDetector.listenTo(container, function(element) {\n",
       "        graph.width(container.querySelector(\"canvas\").offsetWidth);\n",
       "        // graph.height(container.querySelector(\"canvas\").offsetHeight);\n",
       "    });\n",
       "    window.graph = graph;\n",
       "    // Prevent a memory leak by emptying force graph upon unmount\n",
       "    // also uninstall the detector\n",
       "    // Could use a MutationObserver but it's not really worth the effort,\n",
       "    // since uninstalling isn't time sensitive, it just has to get done eventually\n",
       "    const removedInterval = setInterval(() => {\n",
       "        if (!document.contains(container)) {\n",
       "            resizeDetector.uninstall(container);\n",
       "            graph.graphData({nodes: [], links: []});\n",
       "            clearInterval(removedInterval);\n",
       "        }\n",
       "    }, 1000);\n",
       "\n",
       "});\n",
       "</script>\n",
       "    "
      ],
      "text/plain": [
       "<IPython.core.display.HTML object>"
      ]
     },
     "metadata": {},
     "output_type": "display_data"
    }
   ],
   "source": [
    "kg.render_force_graph_3d()"
   ]
  },
  {
   "cell_type": "markdown",
   "metadata": {},
   "source": [
    "Sadly, for this graph, the only edge type that exists between genes and measles (disease) is gene_associated_with_condition. Since there aren't any other predicates that the model can predict between a gene and measles, we can't explore this relationship.\n",
    "\n",
    "Instead, we'll look at the relationship between a chemical_substance and gene. The chemical_substance of choice isn't significant, so we're going to arbitrarily choose the chemical citral, which interacts with the gene IL2 in this graph."
   ]
  },
  {
   "cell_type": "code",
   "execution_count": 4,
   "metadata": {},
   "outputs": [
    {
     "name": "stdout",
     "output_type": "stream",
     "text": [
      "['increases_secretion_of']\n",
      "[]\n",
      "biolink:increases_secretion_of\n"
     ]
    }
   ],
   "source": [
    "citral = kg.get_node_by_name(\"citral\")[\"id\"]\n",
    "il2 = kg.get_node_by_name(\"IL2\")[\"id\"]\n",
    "\n",
    "# Get all edges going from citral->IL2\n",
    "citral_il2 = kg.get_edge(citral, il2)\n",
    "# And from IL2->citral\n",
    "il2_citral = kg.get_edge(il2, citral)\n",
    "\n",
    "print([e[\"type\"][0] for e in citral_il2])\n",
    "print([e[\"type\"][0] for e in il2_citral])\n",
    "\n",
    "print(citral_il2[0][\"predicate_id\"])"
   ]
  },
  {
   "cell_type": "markdown",
   "metadata": {},
   "source": [
    "So, the only edge between them is `citral-[increases_secretion_of]->IL2`. Also, for reference, let's check out what relationship there is between IL2 and measles."
   ]
  },
  {
   "cell_type": "code",
   "execution_count": 5,
   "metadata": {},
   "outputs": [
    {
     "name": "stdout",
     "output_type": "stream",
     "text": [
      "['gene_associated_with_condition']\n",
      "['gene_associated_with_condition']\n",
      "['gene_involved']\n",
      "['gene_involved']\n"
     ]
    }
   ],
   "source": [
    "measles = kg.get_node_by_name(\"measles\")[\"id\"]\n",
    "measles_il2 = kg.get_edge(measles, il2)\n",
    "il2_measles = kg.get_edge(il2, measles)\n",
    "print([e[\"type\"][0] for e in measles_il2])\n",
    "print([e[\"type\"][0] for e in il2_measles])\n",
    "\n",
    "m_il_edge = measles_il2[0]\n",
    "il_m_edge = il2_measles[0]\n",
    "print(m_il_edge[\"relation_label\"])\n",
    "print(il_m_edge[\"relation_label\"])"
   ]
  },
  {
   "cell_type": "markdown",
   "metadata": {},
   "source": [
    "Alright, to recap what we've seen so far:\n",
    "1. We have the chemical citral and the gene IL2\n",
    "2. Citral increases the secretion of the gene IL2\n",
    "3. IL2 is involved in measles in some way.\n",
    "\n",
    "With some quick research, we can gain some insight into how IL2 may be involved in measles. It is worth noting that this topic is complicated and lots of research has been done about it. I'm not knowledable in the subject, so I'll try to give as accurate of a description as I can without making assumptions.\n",
    "\n",
    "IL-2 (Interleukin-2), is an interleukin, as its name suggests. Interleukins are a class of cytokines, which have various roles in the immune system. Generally, cytokines act as signaling molecules that assist in cell-to-cell communication. Their larger role within the immune system is to mediate and regulate immunity, inflammation, and hematopoiesis (1).\n",
    "\n",
    "There have been numerous papers on the subject of cytokines and measles, but without spending a lot more time reading them I can't really say anything beyond that they are correlated in some manner or other.\n",
    "\n",
    "1. https://www.sinobiological.com/resource/cytokines/cytokine-function#:~:text=Cytokines%20are%20a%20large%20group,regulate%20immunity%2C%20inflammation%20and%20hematopoiesis.\n",
    "\n",
    "**So**, what we can say is this: IL2 is probably related to the immune response to measles somehow. Citral increases the secretion of IL2, so it *might* affect how the immune system responds to a measles infection. All-in-all, this isn't very useful information, but it's better than nothing."
   ]
  },
  {
   "cell_type": "markdown",
   "metadata": {},
   "source": [
    "#### Now, let's just give it a go. We're going to see what other edges the model thinks could exist between citral and IL2.\n",
    "It's possible that nothing will be helpful, but at this point I can't readily change what chemical I'm examining because I've already written too much.\n",
    "\n",
    "We're going to use the same `validate_complex` method that's used in the notebook \"Validating Results\"."
   ]
  },
  {
   "cell_type": "code",
   "execution_count": 6,
   "metadata": {},
   "outputs": [],
   "source": [
    "%%capture\n",
    "dataset = make_complex_dataset(kg)\n",
    "model = make_complex_model(dataset)"
   ]
  },
  {
   "cell_type": "code",
   "execution_count": 7,
   "metadata": {},
   "outputs": [],
   "source": [
    "import pandas as pd\n",
    "from stellargraph.mapper import KGTripleGenerator\n",
    "def validate_complex(predicates):\n",
    "    edge_df = pd.DataFrame([\n",
    "        {\n",
    "            \"source\": edge[0],\n",
    "            \"label\": edge[1],\n",
    "            \"target\": edge[2]\n",
    "        } for edge in predicates\n",
    "    ])\n",
    "    print(edge_df.head(), \"\\n\")\n",
    "\n",
    "    # Make a data generator for working with triple-based knowledge graph models like ComplEx.\n",
    "    # https://stellargraph.readthedocs.io/en/stable/api.html#stellargraph.mapper.KGTripleGenerator\n",
    "    generator = KGTripleGenerator(\n",
    "        dataset,\n",
    "        batch_size=10\n",
    "    )\n",
    "    # Create a Keras Sequence that yields edges in edge_df\n",
    "    flow = generator.flow(edge_df)\n",
    "    # Create predictions\n",
    "    predictions = model.predict(flow)\n",
    "    for idx, prediction in enumerate(predictions):\n",
    "        prediction = prediction[0]\n",
    "        if prediction <= 0: continue\n",
    "        source, predicate, target = edge_df.iloc[idx]\n",
    "        print(f\"Prediction of edge {source}-[{predicate}]->{target} existing: {prediction}\")"
   ]
  },
  {
   "cell_type": "markdown",
   "metadata": {},
   "source": [
    "Before we can do that though, we first need to get what possible predicates there are between a gene and disease."
   ]
  },
  {
   "cell_type": "code",
   "execution_count": 8,
   "metadata": {},
   "outputs": [
    {
     "name": "stdout",
     "output_type": "stream",
     "text": [
      "['directly_interacts_with', 'decreases_activity_of', 'decreases_secretion_of', 'increases_activity_of', 'increases_expression_of', 'increases_secretion_of', 'decreases_expression_of', 'affects_secretion_of', 'increases_stability_of', 'decreases_molecular_interaction', 'increases_molecular_interaction', 'decreases_response_to', 'affects_expression_of', 'decreases_stability_of', 'interacts_with', 'increases_localization_of'] \n",
      "\n",
      "['decreases_activity_of', 'has_gene_product', 'affects_localization_of', 'increases_response_to', 'decreases_response_to', 'affects_response_to']\n"
     ]
    }
   ],
   "source": [
    "mappings = make_type_predicate_mappings(kg)\n",
    "chem_gene = mappings[\"chemical_substance\"][\"gene\"]\n",
    "gene_chem = mappings[\"gene\"][\"chemical_substance\"]\n",
    "print(chem_gene, \"\\n\")\n",
    "print(gene_chem)"
   ]
  },
  {
   "cell_type": "markdown",
   "metadata": {},
   "source": [
    "Of these predicates, a couple may relate to `citral-[increase_secretion_of]->IL2`:\n",
    "- `affects_secretion_of` maybe\n",
    "- `interacts_with` (perhaps `increases_secretion_of` can be considered an interaction)\n",
    "- `increases_activity_of` (this might be a stretch)\n",
    "\n",
    "Although none of these that I think might work are an edge from `gene->chemical_substance`, we'll still try it in that direction just because."
   ]
  },
  {
   "cell_type": "code",
   "execution_count": 9,
   "metadata": {},
   "outputs": [
    {
     "name": "stdout",
     "output_type": "stream",
     "text": [
      "         source                    label         target\n",
      "0  MESH:C007076  directly_interacts_with  NCBIGene:3558\n",
      "1  MESH:C007076    decreases_activity_of  NCBIGene:3558\n",
      "2  MESH:C007076   decreases_secretion_of  NCBIGene:3558\n",
      "3  MESH:C007076    increases_activity_of  NCBIGene:3558\n",
      "4  MESH:C007076  increases_expression_of  NCBIGene:3558 \n",
      "\n",
      "Prediction of edge MESH:C007076-[increases_secretion_of]->NCBIGene:3558 existing: 2.7210638523101807\n",
      "Prediction of edge MESH:C007076-[increases_stability_of]->NCBIGene:3558 existing: 0.005242411978542805\n",
      "Prediction of edge MESH:C007076-[decreases_molecular_interaction]->NCBIGene:3558 existing: 0.0020310436375439167\n",
      "Prediction of edge MESH:C007076-[interacts_with]->NCBIGene:3558 existing: 0.002701463643461466\n",
      "Prediction of edge NCBIGene:3558-[decreases_activity_of]->MESH:C007076 existing: 0.004864335060119629\n",
      "Prediction of edge NCBIGene:3558-[decreases_response_to]->MESH:C007076 existing: 0.4299658536911011\n"
     ]
    }
   ],
   "source": [
    "predict_edges = [(citral, predicate, il2) for predicate in chem_gene]\n",
    "predict_edges += [(il2, predicate, citral) for predicate in gene_chem]\n",
    "validate_complex(predict_edges)"
   ]
  },
  {
   "cell_type": "markdown",
   "metadata": {},
   "source": [
    "## Conclusion\n",
    "\n",
    "### Results\n",
    "The results could have been better, but the models tend to perform increasingly worse the smaller the dataset is, and our graph is only a few hundred nodes and edges. Also, if you run this yourself, you'll likely see widely varying results than what we have here. This is because on small datasets such as this, the training set tends to have a huge impact on what the model gets to learn about the graph and how it behaves. Since the training/test/validation sets are random samples of the overall graph, there's a fair chance that the graph won't be shown crucial features of the graph occasionally.\n",
    "\n",
    "It's not the end of the world that the graph doesn't predict any new edges particularly strongly, because there just isn't that much for it go on.\n",
    "\n",
    "### Takeaways\n",
    "The main takeaway from this notebook is not the results, which were arguably destined to be lackluster. Rather, I hope you learned something about the process from this and maybe something about how this model can be used for this kind of thinking."
   ]
  },
  {
   "cell_type": "code",
   "execution_count": null,
   "metadata": {},
   "outputs": [],
   "source": []
  }
 ],
 "metadata": {
  "kernelspec": {
   "display_name": "Python 3",
   "language": "python",
   "name": "python3"
  },
  "language_info": {
   "codemirror_mode": {
    "name": "ipython",
    "version": 3
   },
   "file_extension": ".py",
   "mimetype": "text/x-python",
   "name": "python",
   "nbconvert_exporter": "python",
   "pygments_lexer": "ipython3",
   "version": "3.7.2"
  }
 },
 "nbformat": 4,
 "nbformat_minor": 2
}
