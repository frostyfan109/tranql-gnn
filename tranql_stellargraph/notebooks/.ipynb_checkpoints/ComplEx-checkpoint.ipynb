{
 "cells": [
  {
   "cell_type": "markdown",
   "metadata": {},
   "source": [
    "## Examining results of ComplEx\n",
    "Jump to the end for a summary. This notebook primarily serves to show   "
   ]
  },
  {
   "cell_type": "code",
   "execution_count": 1,
   "metadata": {},
   "outputs": [],
   "source": [
    "from tranql_stellargraph.build_complex import make_model, predict_edge, k_graph, make_type_predicate_mappings"
   ]
  },
  {
   "cell_type": "markdown",
   "metadata": {},
   "source": [
    "First, let's make sure to generate the ComplEX model to use in a little bit"
   ]
  },
  {
   "cell_type": "code",
   "execution_count": 2,
   "metadata": {},
   "outputs": [],
   "source": [
    "%%capture\n",
    "model = make_model()"
   ]
  },
  {
   "cell_type": "markdown",
   "metadata": {},
   "source": [
    "### Looking at the information we have\n",
    "We are going to be examining two specific nodes in the graph to start. We'll look at what information there is in the graph about them, what obvious connections can be drawn, and then we'll see what connections the model can make between them."
   ]
  },
  {
   "cell_type": "code",
   "execution_count": 3,
   "metadata": {},
   "outputs": [
    {
     "name": "stdout",
     "output_type": "stream",
     "text": [
      "MONDO:0010940 : inherited susceptibility to asthma\n",
      "HGNC:10610 : CCL11\n",
      "\n",
      "MONDO:0010940 : ['genetic_condition', 'disease']\n",
      "HGNC:10610 : ['gene']\n"
     ]
    }
   ],
   "source": [
    "\"\"\" Declare the nodes of interest \"\"\"\n",
    "mondo = \"MONDO:0010940\"\n",
    "hgnc = \"HGNC:10610\"\n",
    "\n",
    "# k_graph here is a KnowledgeGraph of mock1.json, and the model is trained with it as the input\n",
    "# Let's refer to the knowledge graph's networkx instance directly for ease of use\n",
    "net = k_graph.net\n",
    "\n",
    "# Display what their names are\n",
    "print(mondo, \":\", net.nodes[mondo][\"attr_dict\"][\"name\"])\n",
    "print(hgnc, \":\", net.nodes[hgnc][\"attr_dict\"][\"name\"])\n",
    "print()\n",
    "# Display what their types are\n",
    "mondo_type = net.nodes[mondo][\"attr_dict\"][\"type\"]\n",
    "hgnc_type = net.nodes[hgnc][\"attr_dict\"][\"type\"]\n",
    "print(mondo, \":\", mondo_type)\n",
    "print(hgnc, \":\", hgnc_type)"
   ]
  },
  {
   "cell_type": "markdown",
   "metadata": {},
   "source": [
    "As we can see, the premise here is simple: we have a gene __CCL11__ and a genetic condition __inherited susceptibility to asthma__. Our goal is to find how these two might be related."
   ]
  },
  {
   "cell_type": "code",
   "execution_count": 4,
   "metadata": {},
   "outputs": [
    {
     "name": "stdout",
     "output_type": "stream",
     "text": [
      "['gene_associated_with_condition']\n",
      "['gene_associated_with_condition']\n"
     ]
    }
   ],
   "source": [
    "\"\"\" Let's see what edges exist between these nodes \"\"\"\n",
    "mondo_to_hgnc = net[mondo][hgnc]\n",
    "hgnc_to_mondo = net[hgnc][mondo]\n",
    "\n",
    "print(list(mondo_to_hgnc.keys()))\n",
    "print(list(hgnc_to_mondo.keys()))"
   ]
  },
  {
   "cell_type": "markdown",
   "metadata": {},
   "source": [
    "So, we have two nodes: inherited susceptibility to asthma and the gene CCL11. We know that these two are associated with each other in some way. Since the two edges are the same, let's just look at one of them."
   ]
  },
  {
   "cell_type": "code",
   "execution_count": 5,
   "metadata": {},
   "outputs": [
    {
     "data": {
      "text/plain": [
       "dict_keys(['type', 'target_id', 'source_id', 'relation', 'edge_source', 'publications', 'id', 'predicate_id', 'source_database', 'ctime', 'relation_label', 'weight', 'reasoner', 'label'])"
      ]
     },
     "execution_count": 5,
     "metadata": {},
     "output_type": "execute_result"
    }
   ],
   "source": [
    "edge = k_graph.net[mondo][hgnc][\"gene_associated_with_condition\"]\n",
    "edge.keys()"
   ]
  },
  {
   "cell_type": "markdown",
   "metadata": {},
   "source": [
    "Of these keys, relation_label is probably going to tell us the most."
   ]
  },
  {
   "cell_type": "code",
   "execution_count": 6,
   "metadata": {},
   "outputs": [
    {
     "data": {
      "text/plain": [
       "['likely_pathogenic_for_condition']"
      ]
     },
     "execution_count": 6,
     "metadata": {},
     "output_type": "execute_result"
    }
   ],
   "source": [
    "edge[\"relation_label\"]"
   ]
  },
  {
   "cell_type": "markdown",
   "metadata": {},
   "source": [
    "Okay, so what we know from the graph is that for these two nodes, the gene CCL11 likely causes inherited susceptibility to asthma in some way."
   ]
  },
  {
   "cell_type": "markdown",
   "metadata": {},
   "source": [
    "### Now, let's look at what the model can tell us.\n",
    "First, we need to get all the possible predicates between gene and genetic_condition/disease\n",
    "Let's see what predicates there are between them first"
   ]
  },
  {
   "cell_type": "code",
   "execution_count": 7,
   "metadata": {},
   "outputs": [
    {
     "name": "stdout",
     "output_type": "stream",
     "text": [
      "['has_phenotype', 'disease_to_gene_association', 'contributes_to', 'biomarker_for', 'gene_associated_with_condition']\n"
     ]
    }
   ],
   "source": [
    "# This is structured as {\"chemical_substance\": {\"gene\": [pred1, pred2]}}\n",
    "predicate_map = make_type_predicate_mappings(k_graph)\n",
    "# For example, let's see the predicates between genetic_condition and gene\n",
    "print(predicate_map[\"genetic_condition\"])"
   ]
  },
  {
   "cell_type": "markdown",
   "metadata": {},
   "source": [
    "First, let's build some new edges of mondo->gene."
   ]
  },
  {
   "cell_type": "code",
   "execution_count": 12,
   "metadata": {},
   "outputs": [
    {
     "name": "stdout",
     "output_type": "stream",
     "text": [
      "MONDO:0010940-[has_phenotype]->HGNC:10610\n",
      "MONDO:0010940-[disease_to_gene_association]->HGNC:10610\n",
      "MONDO:0010940-[contributes_to]->HGNC:10610\n",
      "MONDO:0010940-[biomarker_for]->HGNC:10610\n",
      "MONDO:0010940-[gene_associated_with_condition]->HGNC:10610\n",
      "MONDO:0010940-[disease_to_gene_association]->HGNC:10610\n",
      "MONDO:0010940-[literature_co-occurrence]->HGNC:10610\n",
      "MONDO:0010940-[contributes_to]->HGNC:10610\n",
      "MONDO:0010940-[has_phenotype]->HGNC:10610\n",
      "MONDO:0010940-[biomarker_for]->HGNC:10610\n",
      "MONDO:0010940-[gene_associated_with_condition]->HGNC:10610\n"
     ]
    }
   ],
   "source": [
    "mondo_to_hgnc_predicates = predicate_map[\"genetic_condition\"][\"gene\"] + predicate_map[\"disease\"][\"gene\"]\n",
    "edges = [\n",
    "    # source, target, pred\n",
    "    (mondo, hgnc, predicate) for predicate in mondo_to_hgnc_predicates\n",
    "]\n",
    "for edge in edges:\n",
    "    print(f\"{edge[0]}-[{edge[2]}]->{edge[1]}\")"
   ]
  },
  {
   "cell_type": "markdown",
   "metadata": {},
   "source": [
    "Now let's see if the model thinks they could exist."
   ]
  },
  {
   "cell_type": "code",
   "execution_count": 13,
   "metadata": {},
   "outputs": [
    {
     "name": "stdout",
     "output_type": "stream",
     "text": [
      "Edge MONDO:0010940-[has_phenotype]->HGNC:10610 predicted (0.45043355226516724) (real=False)\n",
      "Edge MONDO:0010940-[disease_to_gene_association]->HGNC:10610 predicted (0.21170775592327118) (real=False)\n",
      "Edge MONDO:0010940-[contributes_to]->HGNC:10610 predicted (0.45043355226516724) (real=False)\n",
      "Edge MONDO:0010940-[biomarker_for]->HGNC:10610 predicted (0.4502994418144226) (real=False)\n",
      "Edge MONDO:0010940-[gene_associated_with_condition]->HGNC:10610 predicted (0.21170775592327118) (real=True)\n"
     ]
    }
   ],
   "source": [
    "predict_edge(model, edges)"
   ]
  },
  {
   "cell_type": "markdown",
   "metadata": {},
   "source": [
    "It looks like of all those edges we fed in, a few of them are predicted to be real by the model, although none are very strong. Let's look at edges gene->mondo"
   ]
  },
  {
   "cell_type": "code",
   "execution_count": 15,
   "metadata": {},
   "outputs": [
    {
     "name": "stdout",
     "output_type": "stream",
     "text": [
      "HGNC:10610-[has_phenotype]->MONDO:0010940\n",
      "HGNC:10610-[disease_to_gene_association]->MONDO:0010940\n",
      "HGNC:10610-[contributes_to]->MONDO:0010940\n",
      "HGNC:10610-[biomarker_for]->MONDO:0010940\n",
      "HGNC:10610-[gene_associated_with_condition]->MONDO:0010940\n",
      "HGNC:10610-[disease_to_gene_association]->MONDO:0010940\n",
      "HGNC:10610-[literature_co-occurrence]->MONDO:0010940\n",
      "HGNC:10610-[contributes_to]->MONDO:0010940\n",
      "HGNC:10610-[has_phenotype]->MONDO:0010940\n",
      "HGNC:10610-[biomarker_for]->MONDO:0010940\n",
      "HGNC:10610-[gene_associated_with_condition]->MONDO:0010940\n"
     ]
    }
   ],
   "source": [
    "hgnc_to_mondo_predicates = predicate_map[\"gene\"][\"genetic_condition\"] + predicate_map[\"gene\"][\"disease\"]\n",
    "edges = [\n",
    "    # source, target, pred\n",
    "    (hgnc, mondo, predicate) for predicate in mondo_to_hgnc_predicates\n",
    "]\n",
    "for edge in edges:\n",
    "    print(f\"{edge[0]}-[{edge[2]}]->{edge[1]}\")"
   ]
  },
  {
   "cell_type": "code",
   "execution_count": 21,
   "metadata": {},
   "outputs": [
    {
     "name": "stdout",
     "output_type": "stream",
     "text": [
      "Edge HGNC:10610-[has_phenotype]->MONDO:0010940 predicted (0.39737415313720703) (real=False)\n",
      "Edge HGNC:10610-[disease_to_gene_association]->MONDO:0010940 predicted (1.193188190460205) (real=False)\n",
      "Edge HGNC:10610-[contributes_to]->MONDO:0010940 predicted (1.2402820587158203) (real=False)\n",
      "Edge HGNC:10610-[biomarker_for]->MONDO:0010940 predicted (0.0022675953805446625) (real=False)\n",
      "Edge HGNC:10610-[gene_associated_with_condition]->MONDO:0010940 predicted (1.193188190460205) (real=True)\n",
      "Edge HGNC:10610-[disease_to_gene_association]->MONDO:0010940 predicted (0.39737415313720703) (real=False)\n",
      "Edge HGNC:10610-[literature_co-occurrence]->MONDO:0010940 predicted (1.2402820587158203) (real=False)\n",
      "Edge HGNC:10610-[contributes_to]->MONDO:0010940 predicted (0.0022675935178995132) (real=False)\n"
     ]
    }
   ],
   "source": [
    "predict_edge(model, edges)"
   ]
  },
  {
   "cell_type": "markdown",
   "metadata": {},
   "source": [
    "There are a few strong ones in here such as contributes_to, literature_co-occurence, and disease_to_gene_association."
   ]
  },
  {
   "cell_type": "markdown",
   "metadata": {},
   "source": [
    "## Conclusion\n",
    "Given two nodes, *inherited susceptibility to asthma* and *CCL11* with a single edge between them, *gene_associated_with_condition*, the model is able to predict other possible edges between the two and demonstrates that it is learning meaningful relationships within the graph.\n",
    "\n",
    "### Takeaways\n",
    "There are some predictions I find particularly interesting.\n",
    "1. disease_to_gene_association is obviously going to be very similar to gene_associated_with_condition, and it looks like the model has made this connection.\n",
    "2. literature_co-occurrence is a strange type and I'm not completely sure how it really works. However, doing some quick searching, it's quite easy to find prior work done concerning CCL11 and inherited susceptibility to asthma. See: https://www.jacionline.org/article/S0091-6749(05)02508-X/fulltext\n",
    "3. contributes_to again demonstrates that the model is able to find patterns in edge types, and it seems very realistic that if CCL11 is \"likely pathogenic for\" inherited susceptibility to asthma, then CCL11 also contributes to this condition."
   ]
  },
  {
   "cell_type": "code",
   "execution_count": null,
   "metadata": {},
   "outputs": [],
   "source": []
  }
 ],
 "metadata": {
  "kernelspec": {
   "display_name": "Python 3",
   "language": "python",
   "name": "python3"
  },
  "language_info": {
   "codemirror_mode": {
    "name": "ipython",
    "version": 3
   },
   "file_extension": ".py",
   "mimetype": "text/x-python",
   "name": "python",
   "nbconvert_exporter": "python",
   "pygments_lexer": "ipython3",
   "version": "3.7.2"
  }
 },
 "nbformat": 4,
 "nbformat_minor": 2
}
