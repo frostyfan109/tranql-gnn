{
 "cells": [
  {
   "cell_type": "markdown",
   "metadata": {},
   "source": [
    "## Manual Validation\n",
    "### Overview\n",
    "The goal of this notebook is to demonstrate the capability of these networks to predict edges by conducting manual validation on them. We will remove prominent edges from the graph datasets prior to building the models, and then validate that the models can still predict these removed edges."
   ]
  },
  {
   "cell_type": "markdown",
   "metadata": {},
   "source": [
    "### Models\n",
    "#### 1. [ComplEx](http://proceedings.mlr.press/v48/trouillon16.pdf)\n",
    "- Supports multiple edge types\n",
    "- Heterogeneous (https://dl.acm.org/doi/10.1145/3292500.3330961)\n",
    "- Does not use node features\n",
    "- Because multiple edge types are supported, the model can predict the likelihood of edges with specific predicates existing. This sets it apart from most other models, which can only predict *if* an edge exists but not what kind of edge it is.\n",
    "\n",
    "#### 2. [GCN](https://arxiv.org/abs/1609.02907)\n",
    "- Supports node features\n",
    "- Not heterogeneous\n",
    "- Uses each node's `type` attribute as its feature vector.\n",
    "- Unlike the ComplEx model, this model can only predict the likelihood of an edge existing between two nodes, but not what kind of edge. Thus, the practicality of this model is much more limited.\n",
    "- Another drawback is that this model is undirected, so combined with the lack of predicates its results are quite vague and hard to use."
   ]
  },
  {
   "cell_type": "code",
   "execution_count": 1,
   "metadata": {},
   "outputs": [],
   "source": [
    "from tranql_jupyter import KnowledgeGraph\n",
    "from build_complex import (\n",
    "    make_model as make_complex_model,\n",
    "    get_dataset as make_complex_dataset\n",
    ")\n",
    "from build_gcn import (\n",
    "    make_model as make_gcn_model,\n",
    "    get_dataset as make_gcn_dataset\n",
    ")"
   ]
  },
  {
   "cell_type": "markdown",
   "metadata": {},
   "source": [
    "### Removing edges\n",
    "To start, let's recreate the dataset but without the edges that we'll be validating later."
   ]
  },
  {
   "cell_type": "code",
   "execution_count": 2,
   "metadata": {},
   "outputs": [
    {
     "name": "stdout",
     "output_type": "stream",
     "text": [
      "Removing MONDO:0012607-[biomarker_for]->HGNC:17020\n",
      "Removing CHEBI:9416-[directly_interacts_with]->HGNC:9816\n",
      "Removed edge predicates: [('MONDO:0012607', 'biomarker_for', 'HGNC:17020'), ('CHEBI:9416', 'directly_interacts_with', 'HGNC:9816')]\n"
     ]
    }
   ],
   "source": [
    "# We'll be using the mock1 graph as the dataset.\n",
    "# It contains chemical_substance->gene->disease<asthma> from Robokop\n",
    "k_graph = KnowledgeGraph.mock1()\n",
    "\n",
    "# We'll be removing these edges - make sure to remove them in both directions if it has them both ways\n",
    "removed_edges = [\n",
    "#     (\"MONDO:0005405\", \"HGNC:9498\"),\n",
    "#     (\"HGNC:9498\", \"MONDO:0005405\"),\n",
    "    (\"MONDO:0012607\", \"HGNC:17020\"),\n",
    "    (\"CHEBI:9416\", \"HGNC:9816\")\n",
    "]\n",
    "removed_predicates = []\n",
    "for edge in removed_edges:\n",
    "    n0, n1 = edge\n",
    "    for predicate in list(k_graph.net[n0][n1].keys()):\n",
    "        k_graph.net.remove_edge(n0, n1, predicate)\n",
    "        removed_predicates.append((n0, predicate, n1))\n",
    "        print(f\"Removing {n0}-[{predicate}]->{n1}\")\n",
    "print(\"Removed edge predicates:\", removed_predicates)"
   ]
  },
  {
   "cell_type": "markdown",
   "metadata": {},
   "source": [
    "### Create the new datasets\n",
    "It's important to respect each model's method of creating a StellarGraph instance. This involves generating feature vectors, specifying edge types, etc."
   ]
  },
  {
   "cell_type": "code",
   "execution_count": 3,
   "metadata": {},
   "outputs": [],
   "source": [
    "complex_dataset = make_complex_dataset(k_graph)\n",
    "gcn_dataset = make_gcn_dataset(k_graph)"
   ]
  },
  {
   "cell_type": "markdown",
   "metadata": {},
   "source": [
    "### Creating the models\n",
    "Using our new dataset, we can now create and train the models."
   ]
  },
  {
   "cell_type": "code",
   "execution_count": 4,
   "metadata": {},
   "outputs": [
    {
     "name": "stdout",
     "output_type": "stream",
     "text": [
      "Epoch 1/100\n"
     ]
    },
    {
     "name": "stderr",
     "output_type": "stream",
     "text": [
      "c:\\coding\\keras-test\\venv\\lib\\site-packages\\tensorflow\\python\\framework\\indexed_slices.py:434: UserWarning:\n",
      "\n",
      "Converting sparse IndexedSlices to a dense Tensor of unknown shape. This may consume a large amount of memory.\n",
      "\n"
     ]
    },
    {
     "name": "stdout",
     "output_type": "stream",
     "text": [
      "101/101 [==============================] - 1s 5ms/step - loss: 0.6932 - binary_accuracy: 0.5121 - val_loss: 0.6931 - val_binary_accuracy: 0.5188\n",
      "Epoch 2/100\n",
      "101/101 [==============================] - 0s 3ms/step - loss: 0.6927 - binary_accuracy: 0.5711 - val_loss: 0.6926 - val_binary_accuracy: 0.5491\n",
      "Epoch 3/100\n",
      "101/101 [==============================] - 0s 3ms/step - loss: 0.6902 - binary_accuracy: 0.6664 - val_loss: 0.6882 - val_binary_accuracy: 0.6906\n",
      "Epoch 4/100\n",
      "101/101 [==============================] - 0s 3ms/step - loss: 0.6720 - binary_accuracy: 0.8494 - val_loss: 0.6587 - val_binary_accuracy: 0.8792\n",
      "Epoch 5/100\n",
      "101/101 [==============================] - 0s 3ms/step - loss: 0.6051 - binary_accuracy: 0.9089 - val_loss: 0.5827 - val_binary_accuracy: 0.9068\n",
      "Epoch 6/100\n",
      "101/101 [==============================] - 0s 3ms/step - loss: 0.5086 - binary_accuracy: 0.9089 - val_loss: 0.5125 - val_binary_accuracy: 0.9091\n",
      "Epoch 7/100\n",
      "101/101 [==============================] - 0s 3ms/step - loss: 0.4111 - binary_accuracy: 0.9091 - val_loss: 0.4490 - val_binary_accuracy: 0.9082\n",
      "Epoch 8/100\n",
      "101/101 [==============================] - 0s 3ms/step - loss: 0.3164 - binary_accuracy: 0.9091 - val_loss: 0.4124 - val_binary_accuracy: 0.9005\n",
      "Epoch 9/100\n",
      "101/101 [==============================] - 0s 3ms/step - loss: 0.2445 - binary_accuracy: 0.9197 - val_loss: 0.3914 - val_binary_accuracy: 0.8996\n",
      "Epoch 10/100\n",
      "101/101 [==============================] - 0s 3ms/step - loss: 0.1967 - binary_accuracy: 0.9292 - val_loss: 0.3906 - val_binary_accuracy: 0.8978\n",
      "Epoch 11/100\n",
      "101/101 [==============================] - 0s 3ms/step - loss: 0.1612 - binary_accuracy: 0.9394 - val_loss: 0.3996 - val_binary_accuracy: 0.8978\n",
      "Epoch 12/100\n",
      "101/101 [==============================] - 0s 3ms/step - loss: 0.1328 - binary_accuracy: 0.9532 - val_loss: 0.4118 - val_binary_accuracy: 0.8969\n",
      "Epoch 13/100\n",
      "101/101 [==============================] - 0s 3ms/step - loss: 0.1152 - binary_accuracy: 0.9609 - val_loss: 0.4174 - val_binary_accuracy: 0.9014\n",
      "Epoch 14/100\n",
      "101/101 [==============================] - 0s 3ms/step - loss: 0.1008 - binary_accuracy: 0.9664 - val_loss: 0.4307 - val_binary_accuracy: 0.9005\n",
      "Epoch 15/100\n",
      "101/101 [==============================] - 0s 3ms/step - loss: 0.0928 - binary_accuracy: 0.9655 - val_loss: 0.4388 - val_binary_accuracy: 0.8987\n",
      "Epoch 16/100\n",
      "101/101 [==============================] - 0s 3ms/step - loss: 0.0850 - binary_accuracy: 0.9685 - val_loss: 0.4585 - val_binary_accuracy: 0.8951\n",
      "Epoch 17/100\n",
      "101/101 [==============================] - 0s 3ms/step - loss: 0.0826 - binary_accuracy: 0.9681 - val_loss: 0.4611 - val_binary_accuracy: 0.8991\n",
      "Epoch 18/100\n",
      "101/101 [==============================] - 0s 3ms/step - loss: 0.0748 - binary_accuracy: 0.9699 - val_loss: 0.4692 - val_binary_accuracy: 0.9019\n",
      "Epoch 19/100\n",
      "101/101 [==============================] - 0s 3ms/step - loss: 0.0689 - binary_accuracy: 0.9743 - val_loss: 0.4882 - val_binary_accuracy: 0.8924\n",
      "Epoch 20/100\n",
      "101/101 [==============================] - 0s 3ms/step - loss: 0.0704 - binary_accuracy: 0.9711 - val_loss: 0.4977 - val_binary_accuracy: 0.8964\n"
     ]
    },
    {
     "data": {
      "image/png": "[encoded data removed]",
      "text/plain": [
       "<Figure size 504x576 with 2 Axes>"
      ]
     },
     "metadata": {
      "needs_background": "light"
     },
     "output_type": "display_data"
    }
   ],
   "source": [
    "complex_model = make_complex_model(complex_dataset)"
   ]
  },
  {
   "cell_type": "code",
   "execution_count": 5,
   "metadata": {
    "scrolled": false
   },
   "outputs": [
    {
     "name": "stdout",
     "output_type": "stream",
     "text": [
      "** Sampled 251 positive and 251 negative edges. **\n",
      "** Sampled 201 positive and 201 negative edges. **\n",
      "Using GCN (local pooling) filters...\n",
      "Using GCN (local pooling) filters...\n",
      "1/1 [==============================] - 0s 985us/step - loss: 0.3459 - binary_accuracy: 0.9104\n",
      "1/1 [==============================] - 0s 999us/step - loss: 0.3028 - binary_accuracy: 0.9243\n",
      "\n",
      "Train Set Metrics of the initial (untrained) model:\n",
      "\tloss: 0.3459\n",
      "\tbinary_accuracy: 0.9104\n",
      "\n",
      "Test Set Metrics of the initial (untrained) model:\n",
      "\tloss: 0.3028\n",
      "\tbinary_accuracy: 0.9243\n",
      "Epoch 1/50\n",
      "1/1 - 0s - loss: 1.7723 - binary_accuracy: 0.7662 - val_loss: 0.3017 - val_binary_accuracy: 0.8924\n",
      "Epoch 2/50\n",
      "1/1 - 0s - loss: 1.1030 - binary_accuracy: 0.7289 - val_loss: 0.2819 - val_binary_accuracy: 0.9004\n",
      "Epoch 3/50\n",
      "1/1 - 0s - loss: 0.8078 - binary_accuracy: 0.7612 - val_loss: 0.2591 - val_binary_accuracy: 0.9143\n",
      "Epoch 4/50\n",
      "1/1 - 0s - loss: 0.6243 - binary_accuracy: 0.7811 - val_loss: 0.2413 - val_binary_accuracy: 0.9343\n",
      "Epoch 5/50\n",
      "1/1 - 0s - loss: 0.5278 - binary_accuracy: 0.7910 - val_loss: 0.2529 - val_binary_accuracy: 0.9522\n",
      "Epoch 6/50\n",
      "1/1 - 0s - loss: 0.5225 - binary_accuracy: 0.7736 - val_loss: 0.2471 - val_binary_accuracy: 0.9622\n",
      "Epoch 7/50\n",
      "1/1 - 0s - loss: 0.4428 - binary_accuracy: 0.8259 - val_loss: 0.2628 - val_binary_accuracy: 0.9661\n",
      "Epoch 8/50\n",
      "1/1 - 0s - loss: 0.3999 - binary_accuracy: 0.8333 - val_loss: 0.2570 - val_binary_accuracy: 0.9661\n",
      "Epoch 9/50\n",
      "1/1 - 0s - loss: 0.4491 - binary_accuracy: 0.8458 - val_loss: 0.2518 - val_binary_accuracy: 0.9681\n",
      "Epoch 10/50\n",
      "1/1 - 0s - loss: 0.4109 - binary_accuracy: 0.8483 - val_loss: 0.2483 - val_binary_accuracy: 0.9681\n",
      "Epoch 11/50\n",
      "1/1 - 0s - loss: 0.4631 - binary_accuracy: 0.8682 - val_loss: 0.2435 - val_binary_accuracy: 0.9681\n",
      "Epoch 12/50\n",
      "1/1 - 0s - loss: 0.3927 - binary_accuracy: 0.8731 - val_loss: 0.2394 - val_binary_accuracy: 0.9701\n",
      "Epoch 13/50\n",
      "1/1 - 0s - loss: 0.3102 - binary_accuracy: 0.8980 - val_loss: 0.2148 - val_binary_accuracy: 0.9701\n",
      "Epoch 14/50\n",
      "1/1 - 0s - loss: 0.3859 - binary_accuracy: 0.9055 - val_loss: 0.2095 - val_binary_accuracy: 0.9701\n",
      "Epoch 15/50\n",
      "1/1 - 0s - loss: 0.3781 - binary_accuracy: 0.8856 - val_loss: 0.2064 - val_binary_accuracy: 0.9701\n",
      "Epoch 16/50\n",
      "1/1 - 0s - loss: 0.3225 - binary_accuracy: 0.9129 - val_loss: 0.2073 - val_binary_accuracy: 0.9681\n",
      "Epoch 17/50\n",
      "1/1 - 0s - loss: 0.3517 - binary_accuracy: 0.8980 - val_loss: 0.2048 - val_binary_accuracy: 0.9681\n",
      "Epoch 18/50\n",
      "1/1 - 0s - loss: 0.3251 - binary_accuracy: 0.8756 - val_loss: 0.2006 - val_binary_accuracy: 0.9701\n",
      "Epoch 19/50\n",
      "1/1 - 0s - loss: 0.3521 - binary_accuracy: 0.9403 - val_loss: 0.1983 - val_binary_accuracy: 0.9701\n",
      "Epoch 20/50\n",
      "1/1 - 0s - loss: 0.4073 - binary_accuracy: 0.9279 - val_loss: 0.2200 - val_binary_accuracy: 0.9681\n",
      "Epoch 21/50\n",
      "1/1 - 0s - loss: 0.4193 - binary_accuracy: 0.9453 - val_loss: 0.2186 - val_binary_accuracy: 0.9681\n",
      "Epoch 22/50\n",
      "1/1 - 0s - loss: 0.3822 - binary_accuracy: 0.9254 - val_loss: 0.2175 - val_binary_accuracy: 0.9661\n",
      "Epoch 23/50\n",
      "1/1 - 0s - loss: 0.3699 - binary_accuracy: 0.9378 - val_loss: 0.2177 - val_binary_accuracy: 0.9681\n",
      "Epoch 24/50\n",
      "1/1 - 0s - loss: 0.3875 - binary_accuracy: 0.9279 - val_loss: 0.2153 - val_binary_accuracy: 0.9681\n",
      "Epoch 25/50\n",
      "1/1 - 0s - loss: 0.3879 - binary_accuracy: 0.9353 - val_loss: 0.1920 - val_binary_accuracy: 0.9681\n",
      "Epoch 26/50\n",
      "1/1 - 0s - loss: 0.3474 - binary_accuracy: 0.9328 - val_loss: 0.1970 - val_binary_accuracy: 0.9661\n",
      "Epoch 27/50\n",
      "1/1 - 0s - loss: 0.3122 - binary_accuracy: 0.9129 - val_loss: 0.2029 - val_binary_accuracy: 0.9641\n",
      "Epoch 28/50\n",
      "1/1 - 0s - loss: 0.3307 - binary_accuracy: 0.9179 - val_loss: 0.2057 - val_binary_accuracy: 0.9542\n",
      "Epoch 29/50\n",
      "1/1 - 0s - loss: 0.3564 - binary_accuracy: 0.9353 - val_loss: 0.2054 - val_binary_accuracy: 0.9542\n",
      "Epoch 30/50\n",
      "1/1 - 0s - loss: 0.3202 - binary_accuracy: 0.9254 - val_loss: 0.2035 - val_binary_accuracy: 0.9542\n",
      "Epoch 31/50\n",
      "1/1 - 0s - loss: 0.3666 - binary_accuracy: 0.8706 - val_loss: 0.1948 - val_binary_accuracy: 0.9661\n",
      "Epoch 32/50\n",
      "1/1 - 0s - loss: 0.3776 - binary_accuracy: 0.9353 - val_loss: 0.1886 - val_binary_accuracy: 0.9681\n",
      "Epoch 33/50\n",
      "1/1 - 0s - loss: 0.3529 - binary_accuracy: 0.9303 - val_loss: 0.2100 - val_binary_accuracy: 0.9661\n",
      "Epoch 34/50\n",
      "1/1 - 0s - loss: 0.2742 - binary_accuracy: 0.9478 - val_loss: 0.2101 - val_binary_accuracy: 0.9661\n",
      "Epoch 35/50\n",
      "1/1 - 0s - loss: 0.3594 - binary_accuracy: 0.9328 - val_loss: 0.2107 - val_binary_accuracy: 0.9661\n",
      "Epoch 36/50\n",
      "1/1 - 0s - loss: 0.3385 - binary_accuracy: 0.9453 - val_loss: 0.2111 - val_binary_accuracy: 0.9661\n",
      "Epoch 37/50\n",
      "1/1 - 0s - loss: 0.3822 - binary_accuracy: 0.9428 - val_loss: 0.2105 - val_binary_accuracy: 0.9661\n",
      "Epoch 38/50\n",
      "1/1 - 0s - loss: 0.3164 - binary_accuracy: 0.9428 - val_loss: 0.2100 - val_binary_accuracy: 0.9661\n",
      "Epoch 39/50\n",
      "1/1 - 0s - loss: 0.3097 - binary_accuracy: 0.9403 - val_loss: 0.1904 - val_binary_accuracy: 0.9681\n",
      "Epoch 40/50\n",
      "1/1 - 0s - loss: 0.2958 - binary_accuracy: 0.9478 - val_loss: 0.1892 - val_binary_accuracy: 0.9681\n",
      "Epoch 41/50\n",
      "1/1 - 0s - loss: 0.2471 - binary_accuracy: 0.9279 - val_loss: 0.1922 - val_binary_accuracy: 0.9641\n",
      "Epoch 42/50\n",
      "1/1 - 0s - loss: 0.3030 - binary_accuracy: 0.9453 - val_loss: 0.1950 - val_binary_accuracy: 0.9562\n",
      "Epoch 43/50\n",
      "1/1 - 0s - loss: 0.3303 - binary_accuracy: 0.9328 - val_loss: 0.1974 - val_binary_accuracy: 0.9562\n",
      "Epoch 44/50\n",
      "1/1 - 0s - loss: 0.2506 - binary_accuracy: 0.9353 - val_loss: 0.1971 - val_binary_accuracy: 0.9562\n",
      "Epoch 45/50\n",
      "1/1 - 0s - loss: 0.3016 - binary_accuracy: 0.9453 - val_loss: 0.1935 - val_binary_accuracy: 0.9582\n",
      "Epoch 46/50\n",
      "1/1 - 0s - loss: 0.2562 - binary_accuracy: 0.9428 - val_loss: 0.1899 - val_binary_accuracy: 0.9622\n",
      "Epoch 47/50\n",
      "1/1 - 0s - loss: 0.2485 - binary_accuracy: 0.9378 - val_loss: 0.1887 - val_binary_accuracy: 0.9681\n",
      "Epoch 48/50\n",
      "1/1 - 0s - loss: 0.2979 - binary_accuracy: 0.9254 - val_loss: 0.2082 - val_binary_accuracy: 0.9681\n",
      "Epoch 49/50\n",
      "1/1 - 0s - loss: 0.3128 - binary_accuracy: 0.9378 - val_loss: 0.1995 - val_binary_accuracy: 0.9502\n",
      "Epoch 50/50\n",
      "1/1 - 0s - loss: 0.3042 - binary_accuracy: 0.9378 - val_loss: 0.2286 - val_binary_accuracy: 0.9363\n",
      "1/1 [==============================] - 0s 2ms/step - loss: 0.2652 - binary_accuracy: 0.9179\n",
      "1/1 [==============================] - 0s 995us/step - loss: 0.2286 - binary_accuracy: 0.9363\n"
     ]
    },
    {
     "data": {
      "image/png": "[encoded data removed]",
      "text/plain": [
       "<Figure size 504x576 with 2 Axes>"
      ]
     },
     "metadata": {
      "needs_background": "light"
     },
     "output_type": "display_data"
    }
   ],
   "source": [
    "gcn_model = make_gcn_model(gcn_dataset)"
   ]
  },
  {
   "cell_type": "markdown",
   "metadata": {},
   "source": [
    "## Validating\n",
    "Now it's time to see how the models do on the edges we removed earlier. Rather than use the methods used internally to accomplish a similar task, it'll be more informative if we do it ourselves. Since the way this is done varies widely between models, we'll approach each one individually."
   ]
  },
  {
   "cell_type": "markdown",
   "metadata": {},
   "source": [
    "### Validating ComplEx"
   ]
  },
  {
   "cell_type": "code",
   "execution_count": 6,
   "metadata": {},
   "outputs": [
    {
     "name": "stdout",
     "output_type": "stream",
     "text": [
      "          source                    label      target\n",
      "0  MONDO:0012607            biomarker_for  HGNC:17020\n",
      "1     CHEBI:9416  directly_interacts_with   HGNC:9816 \n",
      "\n",
      "Prediction of edge MONDO:0012607-[biomarker_for]->HGNC:17020 existing: [-2.2850084]\n",
      "Prediction of edge CHEBI:9416-[directly_interacts_with]->HGNC:9816 existing: [-4.2781544]\n"
     ]
    }
   ],
   "source": [
    "import pandas as pd\n",
    "from stellargraph.mapper import KGTripleGenerator\n",
    "\n",
    "def validate_complex(predicates):\n",
    "    edge_df = pd.DataFrame([\n",
    "        {\n",
    "            \"source\": edge[0],\n",
    "            \"label\": edge[1],\n",
    "            \"target\": edge[2]\n",
    "        } for edge in predicates\n",
    "    ])\n",
    "    print(edge_df.head(), \"\\n\")\n",
    "\n",
    "    # Make a data generator for working with triple-based knowledge graph models like ComplEx.\n",
    "    # https://stellargraph.readthedocs.io/en/stable/api.html#stellargraph.mapper.KGTripleGenerator\n",
    "    generator = KGTripleGenerator(\n",
    "        complex_dataset,\n",
    "        batch_size=10\n",
    "    )\n",
    "    # Create a Keras Sequence that yields edges in edge_df\n",
    "    flow = generator.flow(edge_df)\n",
    "    # Create predictions\n",
    "    predictions = complex_model.predict(flow)\n",
    "    for idx, prediction in enumerate(predictions):\n",
    "        source, predicate, target = edge_df.iloc[idx]\n",
    "        print(f\"Prediction of edge {source}-[{predicate}]->{target} existing: {prediction}\")\n",
    "        \n",
    "# These are the edges that were removed at the beginning and will be used for validation\n",
    "validate_complex(removed_predicates)"
   ]
  },
  {
   "cell_type": "markdown",
   "metadata": {},
   "source": [
    "### Validating GCN"
   ]
  },
  {
   "cell_type": "code",
   "execution_count": 7,
   "metadata": {},
   "outputs": [
    {
     "name": "stdout",
     "output_type": "stream",
     "text": [
      "Using GCN (local pooling) filters...\n",
      "Prediction of edge MONDO:0012607->HGNC:17020 existing: 0.3948815166950226\n",
      "Prediction of edge CHEBI:9416->HGNC:9816 existing: 0.4612973928451538\n"
     ]
    }
   ],
   "source": [
    "from stellargraph.mapper import FullBatchLinkGenerator\n",
    "\n",
    "# The GCN model cannot process predicates, so we just need (source_id, target_id) for each edge. If you recall,\n",
    "# this is precisely what removed_edges is.\n",
    "edge_ids = removed_edges\n",
    "\n",
    "# Make a data generator for the dataset\n",
    "# https://stellargraph.readthedocs.io/en/stable/api.html#stellargraph.mapper.FullBatchLinkGenerator\n",
    "generator = FullBatchLinkGenerator(\n",
    "    gcn_dataset,\n",
    "    method=\"gcn\"\n",
    ")\n",
    "flow = generator.flow(edge_ids)\n",
    "# Create predictions\n",
    "predictions = gcn_model.predict(flow)\n",
    "for i, prediction in enumerate(predictions[0]):\n",
    "    source, target = edge_ids[i]\n",
    "    print(f\"Prediction of edge {source}->{target} existing: {prediction}\")"
   ]
  },
  {
   "cell_type": "markdown",
   "metadata": {},
   "source": [
    "## Conclusion (sort of)\n",
    "### What happened:\n",
    "1. Removed edges between prominent nodes in the graph\n",
    "2. Trained models using the new, modified graph\n",
    "3. Verified that the models still predict that there are edges between the removed nodes\n",
    "\n",
    "### Takeaways\n",
    "The main takeaway is that these two models excel in different areas. For this specific problem, ComplEx struggles to give good predictions while the GCN model is very accurate. The poor performance of ComplEx here is a result of us removing every single predicate between two nodes.\n",
    "\n",
    "While ComplEx tends to be good at tasks such as infering new edge predicates between nodes that already have existing edges between them, it has a very difficult time working with unconnected nodes.\n",
    "\n",
    "### Next steps\n",
    "Explore the possibility of using these two models together. Ideally, the GCN could first be used to predict if an edge *could* exist between two unconnected nodes, and if so, ComplEx would be used to predict what kind of edge. Obviously, this can't be accomplished at face value due to the aforementioned restrictions, but if the concept could be achieved in some way, it would make the best of both models' strengths."
   ]
  },
  {
   "cell_type": "markdown",
   "metadata": {},
   "source": [
    "## ComplEX Part II\n",
    "When originally creating this notebook, I didn't expect ComplEx to perform *so* poorly, and it felt wrong to end without first demonstrating what ComplEx is good at. So, in this section we're going to rebuild the dataset a bit differently to better fit what ComplEx predicts well. This time, we'll remove a couple of edges between nodes but make sure to leave at least 1 so that ComplEx can do its thing.\n",
    "\n",
    "Also, I'm going to try to keep this section as short as possible, so there will be few explanations as it is more or less the same thing that's already been done."
   ]
  },
  {
   "cell_type": "code",
   "execution_count": 8,
   "metadata": {},
   "outputs": [
    {
     "name": "stdout",
     "output_type": "stream",
     "text": [
      "HGNC:5028->CHEBI:18295 ['increases_degradation_of']\n",
      "HGNC:5028->CHEBI:18295 ['increases_degradation_of']\n",
      "HGNC:7518->MONDO:0010940 ['contributes_to']\n",
      "HGNC:7518->MONDO:0010940 ['contributes_to']\n"
     ]
    }
   ],
   "source": [
    "k_graph = KnowledgeGraph.mock1()\n",
    "removed_predicates_2 = [\n",
    "    # For HGNC:5028 and CHEBI:18295, the only edge we are leaving is HGNC:5028-[increases_degradation_of]->CHEBI:18295\n",
    "    (\"CHEBI:18295\", \"interacts_with\", \"HGNC:5028\"),\n",
    "    (\"HGNC:5028\", \"literature_co-occurrence\", \"CHEBI:18295\"),\n",
    "    \n",
    "    # For MONDO:0010940 and HGNC:7518, the only edge we are leaving is HGNC:7518-[contributes_to]->MONDO:0010940\n",
    "    # The model will then be tasked to predict both removed edges which are coming from the opposite direction.\n",
    "    (\"MONDO:0010940\", \"contributes_to\", \"HGNC:7518\"),\n",
    "    (\"MONDO:0010940\", \"disease_to_gene_association\", \"HGNC:7518\"),\n",
    "]\n",
    "[k_graph.net.remove_edge(src, dst, pred) for (src, pred, dst) in removed_predicates_2]\n",
    "\n",
    "# Go through and show which edges still exist between affected nodes\n",
    "for edge in removed_predicates_2:\n",
    "    src, pred, dst = edge\n",
    "    try:\n",
    "        print(src + \"->\" + dst, list(k_graph.net[src][dst].keys()))\n",
    "    except KeyError: pass\n",
    "    try:\n",
    "        print(dst + \"->\" + src, list(k_graph.net[dst][src].keys()))\n",
    "    except KeyError: pass"
   ]
  },
  {
   "cell_type": "code",
   "execution_count": 9,
   "metadata": {},
   "outputs": [],
   "source": [
    "%%capture\n",
    "# Don't output all of the learning process--we can assume that it's close enough to what we already saw\n",
    "model = make_complex_model(make_complex_dataset(k_graph))"
   ]
  },
  {
   "cell_type": "code",
   "execution_count": 10,
   "metadata": {},
   "outputs": [
    {
     "name": "stdout",
     "output_type": "stream",
     "text": [
      "          source                        label       target\n",
      "0    CHEBI:18295               interacts_with    HGNC:5028\n",
      "1      HGNC:5028     literature_co-occurrence  CHEBI:18295\n",
      "2  MONDO:0010940               contributes_to    HGNC:7518\n",
      "3  MONDO:0010940  disease_to_gene_association    HGNC:7518 \n",
      "\n",
      "Prediction of edge CHEBI:18295-[interacts_with]->HGNC:5028 existing: [2.5638027]\n",
      "Prediction of edge HGNC:5028-[literature_co-occurrence]->CHEBI:18295 existing: [1.8568189]\n",
      "Prediction of edge MONDO:0010940-[contributes_to]->HGNC:7518 existing: [1.0002512]\n",
      "Prediction of edge MONDO:0010940-[disease_to_gene_association]->HGNC:7518 existing: [1.8796779]\n"
     ]
    }
   ],
   "source": [
    "validate_complex(removed_predicates_2)"
   ]
  },
  {
   "cell_type": "markdown",
   "metadata": {},
   "source": [
    "### Results\n",
    "As we can see, ComplEx gets a lot correct here without much to go on. For example, given just one edge HGNC:7518-\\[contributes_to\\]->MONDO:0010940, it is still able to predict the two removed edges which are in the opposite direction fairly reliably."
   ]
  }
 ],
 "metadata": {
  "kernelspec": {
   "display_name": "Python 3",
   "language": "python",
   "name": "python3"
  },
  "language_info": {
   "codemirror_mode": {
    "name": "ipython",
    "version": 3
   },
   "file_extension": ".py",
   "mimetype": "text/x-python",
   "name": "python",
   "nbconvert_exporter": "python",
   "pygments_lexer": "ipython3",
   "version": "3.7.2"
  }
 },
 "nbformat": 4,
 "nbformat_minor": 2
}
